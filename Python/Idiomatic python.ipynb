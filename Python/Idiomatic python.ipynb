{
 "cells": [
  {
   "cell_type": "markdown",
   "metadata": {},
   "source": [
    "## Code Like a Pythonista: Idiomatic Python\n",
    "\n",
    "Some good practices to keep in mind of.\n",
    "\n",
    "Reference: Writing Idiomatic Python by Jeff Knupp."
   ]
  },
  {
   "cell_type": "markdown",
   "metadata": {},
   "source": [
    "## Avoid comparing directly to True, False, or None"
   ]
  },
  {
   "cell_type": "code",
   "execution_count": 1,
   "metadata": {},
   "outputs": [
    {
     "name": "stdout",
     "output_type": "stream",
     "text": [
      "GOOD\n"
     ]
    }
   ],
   "source": [
    "#GOOD\n",
    "x = bool()\n",
    "x = True\n",
    "if x:\n",
    "    print(\"GOOD\")"
   ]
  },
  {
   "cell_type": "markdown",
   "metadata": {},
   "source": [
    "## Avoid repeating variable name in compound if statement"
   ]
  },
  {
   "cell_type": "code",
   "execution_count": 2,
   "metadata": {},
   "outputs": [
    {
     "name": "stdout",
     "output_type": "stream",
     "text": [
      "True\n"
     ]
    }
   ],
   "source": [
    "#Good\n",
    "name = 'Tom'\n",
    "is_generic_name = name in ('Tom', 'Dick', 'Harry')\n",
    "print(is_generic_name)"
   ]
  },
  {
   "cell_type": "markdown",
   "metadata": {},
   "source": [
    "## Use the in keyword to iterate over an iterable"
   ]
  },
  {
   "cell_type": "code",
   "execution_count": 3,
   "metadata": {},
   "outputs": [
    {
     "name": "stdout",
     "output_type": "stream",
     "text": [
      "Larry\n",
      "Moe\n",
      "Curly\n"
     ]
    }
   ],
   "source": [
    "#Good\n",
    "my_list = ['Larry', 'Moe', 'Curly']\n",
    "for element in my_list:\n",
    "    print (element)"
   ]
  },
  {
   "cell_type": "markdown",
   "metadata": {},
   "source": [
    "## Use the “enumerate” function in loops instead of creating an “index” variable"
   ]
  },
  {
   "cell_type": "code",
   "execution_count": 5,
   "metadata": {},
   "outputs": [
    {
     "name": "stdout",
     "output_type": "stream",
     "text": [
      "0 Larry\n",
      "1 Moe\n",
      "2 Curly\n"
     ]
    }
   ],
   "source": [
    "#Good\n",
    "my_container = ['Larry', 'Moe', 'Curly']\n",
    "for index, element in enumerate(my_container):\n",
    "    print ('{} {}'.format(index, element))"
   ]
  },
  {
   "cell_type": "markdown",
   "metadata": {},
   "source": [
    "## Use list comprehension to create a transformed version of an existing list\n",
    "\n",
    "* Listcomps are clear & concise, up to a point. \n",
    "* You can have multiple for-loops and if-conditions in a listcomp\n",
    "* if the conditions are complex, regular for loops should be used. "
   ]
  },
  {
   "cell_type": "code",
   "execution_count": 6,
   "metadata": {},
   "outputs": [
    {
     "data": {
      "text/plain": [
       "[6, 8, 10, 12, 14]"
      ]
     },
     "execution_count": 6,
     "metadata": {},
     "output_type": "execute_result"
    }
   ],
   "source": [
    "#Good\n",
    "original_list = range(10)\n",
    "new_list = [element + 5 for element in original_list if element % 2]\n",
    "new_list"
   ]
  },
  {
   "cell_type": "markdown",
   "metadata": {},
   "source": [
    "## Use dict comprehension to build a dict clearly and efficiently"
   ]
  },
  {
   "cell_type": "code",
   "execution_count": 15,
   "metadata": {},
   "outputs": [
    {
     "name": "stdout",
     "output_type": "stream",
     "text": [
      "{'Jim': 'jim@a.com', 'Kim': '', 'Frank': 'frank@a.com'}\n"
     ]
    }
   ],
   "source": [
    "#Good\n",
    "users_list = [('Jim','jim@a.com'),('Kim',''),('Frank','frank@a.com')]\n",
    "user_email = {user[0] : user[1] for user in users_list if user[0]}\n",
    "print(user_email)"
   ]
  },
  {
   "cell_type": "markdown",
   "metadata": {},
   "source": [
    "## Use set comprehension to generate sets concisely\n",
    "\n",
    "* The syntax is identical to list comprehension\n",
    "* Except for the enclosing characters\n",
    "* set behaves like a dictionary with keys but no values)"
   ]
  },
  {
   "cell_type": "code",
   "execution_count": 16,
   "metadata": {},
   "outputs": [
    {
     "name": "stdout",
     "output_type": "stream",
     "text": [
      "{'Jim', 'Thomas'}\n"
     ]
    }
   ],
   "source": [
    "# Good\n",
    "users = ['Jim Winter', 'Thomas Winter','Thomas Fall']\n",
    "users_first_names = {user.split()[0] for user in users}\n",
    "\n",
    "print(users_first_names)"
   ]
  },
  {
   "cell_type": "markdown",
   "metadata": {},
   "source": [
    "## Chain string functions to make a simple\n",
    "series of transformations more clear\n",
    "Too much chaining can make your code harder to follow.\n",
    "“No more than three chained functions” is a good rule of thumb."
   ]
  },
  {
   "cell_type": "code",
   "execution_count": 17,
   "metadata": {},
   "outputs": [
    {
     "name": "stdout",
     "output_type": "stream",
     "text": [
      "THE THREE MUSKETEERS by ALEXANDRE DUMAS\n"
     ]
    }
   ],
   "source": [
    "#Good\n",
    "book_info = ' The Three Musketeers: Alexandre Dumas'\n",
    "formatted_book_info = book_info.strip().upper().replace(':', ' by')\n",
    "print(formatted_book_info)"
   ]
  },
  {
   "cell_type": "markdown",
   "metadata": {},
   "source": [
    "## Prefer the format function for formatting strings"
   ]
  },
  {
   "cell_type": "code",
   "execution_count": 28,
   "metadata": {},
   "outputs": [
    {
     "name": "stdout",
     "output_type": "stream",
     "text": [
      "Name: James, Age: 30, Sex: M\n"
     ]
    }
   ],
   "source": [
    "#Good\n",
    "def get_formatted_user_info(name,age,sex):\n",
    "    # Clear and concise. At a glance I can tell exactly what\n",
    "    # the output should be.\n",
    "    output = 'Name: {}, Age: {}, Sex: {}'.format(name,age,sex)\n",
    "    return output\n",
    "\n",
    "print(get_formatted_user_info('James',30,'M'))"
   ]
  },
  {
   "cell_type": "code",
   "execution_count": 29,
   "metadata": {},
   "outputs": [
    {
     "data": {
      "text/plain": [
       "'Hodor Hodor!'"
      ]
     },
     "execution_count": 29,
     "metadata": {},
     "output_type": "execute_result"
    }
   ],
   "source": [
    "data = {'first': 'Hodor', 'last': 'Hodor!'}\n",
    "'{first} {last}'.format(**data)"
   ]
  },
  {
   "cell_type": "markdown",
   "metadata": {},
   "source": [
    "## Use ''.join when creating a single string for list elements"
   ]
  },
  {
   "cell_type": "code",
   "execution_count": 31,
   "metadata": {},
   "outputs": [
    {
     "name": "stdout",
     "output_type": "stream",
     "text": [
      "TrueFalseFile not found\n"
     ]
    }
   ],
   "source": [
    "#Good\n",
    "result_list = ['True', 'False', 'File not found']\n",
    "result_string = ''.join(result_list)\n",
    "print(result_string)"
   ]
  }
 ],
 "metadata": {
  "kernelspec": {
   "display_name": "Python [default]",
   "language": "python",
   "name": "python3"
  },
  "language_info": {
   "codemirror_mode": {
    "name": "ipython",
    "version": 3
   },
   "file_extension": ".py",
   "mimetype": "text/x-python",
   "name": "python",
   "nbconvert_exporter": "python",
   "pygments_lexer": "ipython3",
   "version": "3.6.4"
  }
 },
 "nbformat": 4,
 "nbformat_minor": 2
}
