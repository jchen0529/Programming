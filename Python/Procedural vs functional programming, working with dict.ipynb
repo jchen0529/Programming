{
 "cells": [
  {
   "cell_type": "markdown",
   "metadata": {},
   "source": [
    "# MSiA 422 Homework 1\n",
    "    \n",
    "**Jamie Chen**"
   ]
  },
  {
   "cell_type": "markdown",
   "metadata": {},
   "source": [
    "**Exercise 1: Procedural vs functional Programming**"
   ]
  },
  {
   "cell_type": "markdown",
   "metadata": {},
   "source": [
    "**Write a pure python code (No external libraries) to achieve the following:**\n",
    "1. Create a function the will randomly generate a list of N numbers and words. Numbers and words count are random and the order is random too.\n",
    "2. Create two functions to calculate the desired output as follows:\n",
    "a. Procedural code by using loops\n",
    "b. Functional code by using list comprehension.\n",
    "3. Use TimeIt standard library and matplotlib to present the performance difference among the 2 solutions for different list sizes (N=100, 1000, 10000, 100000)."
   ]
  },
  {
   "cell_type": "code",
   "execution_count": 4,
   "metadata": {},
   "outputs": [
    {
     "data": {
      "text/plain": [
       "['a', 'abandon', 'abandoned', 'ability', 'able']"
      ]
     },
     "execution_count": 4,
     "metadata": {},
     "output_type": "execute_result"
    }
   ],
   "source": [
    "#I downloaded the Oxford word list, and will choose random words from here.\n",
    "word_list = open('Oxford 3000 Word List.txt','r')\n",
    "word_list_cleaned = word_list.read().split(\"\\n\")\n",
    "#A sample of what it looks like\n",
    "word_list_cleaned[:5]"
   ]
  },
  {
   "cell_type": "markdown",
   "metadata": {},
   "source": [
    "1.1 Create a function that randomly generate a list of N numbers and words, with random order."
   ]
  },
  {
   "cell_type": "code",
   "execution_count": 5,
   "metadata": {},
   "outputs": [
    {
     "data": {
      "text/plain": [
       "['constantly',\n",
       " 'cheese',\n",
       " 0.9668730591320381,\n",
       " 0.4056831495615898,\n",
       " 0.07688631087568243]"
      ]
     },
     "execution_count": 5,
     "metadata": {},
     "output_type": "execute_result"
    }
   ],
   "source": [
    "# You can change n based on the number of elements you want to generate\n",
    "import random\n",
    "\n",
    "def random_list (n):\n",
    "    sample_list=[]\n",
    "    for i in range(n):\n",
    "        assign = random.randint(0,1)\n",
    "        if assign ==0:\n",
    "            sample_list.append(random.random())\n",
    "        else:\n",
    "            sample_list.append(random.choice(word_list_cleaned))\n",
    "    return sample_list\n",
    "\n",
    "sample_list_n = random_list(5)\n",
    "sample_list_n"
   ]
  },
  {
   "cell_type": "markdown",
   "metadata": {},
   "source": [
    "1.2 Create two functions to calculate the desired output using procedural and functional method."
   ]
  },
  {
   "cell_type": "code",
   "execution_count": 6,
   "metadata": {},
   "outputs": [
    {
     "name": "stdout",
     "output_type": "stream",
     "text": [
      "Count of numbers:3\n",
      "Count of words:2\n"
     ]
    }
   ],
   "source": [
    "#procedural code by using loops\n",
    "def procedural_count (input_lst):\n",
    "    num_count = 0\n",
    "    word_count = 0\n",
    "    for i in input_lst:\n",
    "        if type(i)!=str:\n",
    "            num_count+=1\n",
    "        elif type (i) == str:\n",
    "            str_word = i.split(\" \")\n",
    "            word_count+=len(str_word)\n",
    "    print('Count of numbers:{0}\\nCount of words:{1}'.format(num_count, word_count))\n",
    "\n",
    "sample_list_count = procedural_count(sample_list_n)"
   ]
  },
  {
   "cell_type": "code",
   "execution_count": 7,
   "metadata": {},
   "outputs": [
    {
     "name": "stdout",
     "output_type": "stream",
     "text": [
      "Count of numbers:3\n",
      "Count of words:2\n"
     ]
    }
   ],
   "source": [
    "#functional code by using list comprehension\n",
    "def func_count (input_lst):\n",
    "    num_count = len([i for i in input_lst if type(i) != str])\n",
    "    word_split = (i.split ()for i in input_lst if type(i)==str)\n",
    "    word_count = [len(i) for i in word_split]\n",
    "    word_count_total = sum(word_count)\n",
    "    print('Count of numbers:{0}\\nCount of words:{1}'.format(num_count, word_count_total))\n",
    "    \n",
    "sample_list_count = func_count(sample_list_n)"
   ]
  },
  {
   "cell_type": "markdown",
   "metadata": {},
   "source": [
    "1.3 Use TimeIt and matplotlib to present the performance difference among the 2 solutions for different list sizes (N=100, 1000, 10000, 100000)."
   ]
  },
  {
   "cell_type": "code",
   "execution_count": 8,
   "metadata": {},
   "outputs": [
    {
     "name": "stdout",
     "output_type": "stream",
     "text": [
      "100\n",
      "Count of numbers:48\n",
      "Count of words:60\n",
      "Count of numbers:49\n",
      "Count of words:54\n",
      "Count of numbers:514\n",
      "Count of words:538\n",
      "Count of numbers:490\n",
      "Count of words:568\n",
      "Count of numbers:4904\n",
      "Count of words:5707\n",
      "Count of numbers:4896\n",
      "Count of words:5768\n",
      "Count of numbers:49898\n",
      "Count of words:56263\n",
      "Count of numbers:50026\n",
      "Count of words:56221\n",
      "For n = [100, 1000, 10000, 100000], Procedural timer:[0.0005012619949411601, 0.0029277979920152575, 0.02772095601540059, 0.30347626202274114]\n",
      "Functional timer:[0.000482016010209918, 0.0027512109954841435, 0.03464403501129709, 0.2635109190014191]\n"
     ]
    }
   ],
   "source": [
    "import timeit \n",
    "\n",
    "n=[100, 1000,10000,100000]\n",
    "\n",
    "x=n[0]\n",
    "print(x)\n",
    "\n",
    "p_times =[]\n",
    "f_times =[]  \n",
    "\n",
    "p_times.append(timeit.timeit(lambda: procedural_count(random_list(n[0])), number=1))\n",
    "f_times.append(timeit.timeit(lambda: func_count(random_list(n[0])),number=1))\n",
    "\n",
    "p_times.append(timeit.timeit(lambda: procedural_count(random_list(n[1])), number=1))\n",
    "f_times.append(timeit.timeit(lambda: func_count(random_list(n[1])),number=1))\n",
    "\n",
    "p_times.append(timeit.timeit(lambda: procedural_count(random_list(n[2])), number=1))\n",
    "f_times.append(timeit.timeit(lambda: func_count(random_list(n[2])),number=1))\n",
    "\n",
    "p_times.append(timeit.timeit(lambda: procedural_count(random_list(n[3])), number=1))\n",
    "f_times.append(timeit.timeit(lambda: func_count(random_list(n[3])),number=1))\n",
    "\n",
    "print('For n = {0}, Procedural timer:{1}\\nFunctional timer:{2}'.format(n, p_times, f_times))"
   ]
  },
  {
   "cell_type": "code",
   "execution_count": 12,
   "metadata": {},
   "outputs": [
    {
     "data": {
      "image/png": "[encoded data removed]",
      "text/plain": [
       "<matplotlib.figure.Figure at 0x1105f7128>"
      ]
     },
     "metadata": {},
     "output_type": "display_data"
    }
   ],
   "source": [
    "#line chart of the time it takes to run procedural code vs functional code using list comprehension\n",
    "#As size of the list increases, functional code takes less time to run compared to procedural code.\n",
    "\n",
    "import matplotlib.pyplot as plt\n",
    "x = [1,2,3,4]\n",
    "\n",
    "plt.rcParams['figure.figsize'] = 15,6\n",
    "p = plt.plot(x, p_times, color = 'blue')\n",
    "f = plt.plot(x, f_times, color = 'red')\n",
    "\n",
    "plt.ylabel('timer')\n",
    "plt.xlabel('size of the list')\n",
    "plt.legend(['$Procedural codet$', '$Functional code$'], loc='best', fontsize=10)\n",
    "plt.show()"
   ]
  },
  {
   "cell_type": "markdown",
   "metadata": {},
   "source": [
    "## Exercise 2 - Simple student gradient system"
   ]
  },
  {
   "cell_type": "code",
   "execution_count": 15,
   "metadata": {},
   "outputs": [
    {
     "name": "stdout",
     "output_type": "stream",
     "text": [
      "[['id', 'Name', 'Quizzes', 'Projects', 'Exams'], ['ID1', 'James', '43', '51', '55'], ['ID2', 'Josephine', '76', '84', '87'], ['ID3', 'Art', '89', '94', '92'], ['ID4', 'Lenna', '70', '67', '64']]\n"
     ]
    }
   ],
   "source": [
    "#read in and clean data\n",
    "\n",
    "def readin():\n",
    "    raw_data = open('exams.csv','r')\n",
    "    students = raw_data.read().split('\\n')\n",
    "    students_cleaned = [i.split (',') for i in students]\n",
    "    return students_cleaned\n",
    "\n",
    "students_list = readin()\n",
    "print (students_list[:5])"
   ]
  },
  {
   "cell_type": "code",
   "execution_count": 2,
   "metadata": {
    "collapsed": true
   },
   "outputs": [],
   "source": [
    "#Use student names as keys, calculate final score based on quiz, project and exam\n",
    "keys=[]\n",
    "final_score =[]\n",
    "\n",
    "for row in students_list[1:]:\n",
    "    keys.append(row[1])\n",
    "    score = 0.3*float(row[2]) +0.3*float(row[3])+0.4*float(row[4])\n",
    "    final_score.append(score)"
   ]
  },
  {
   "cell_type": "code",
   "execution_count": 3,
   "metadata": {
    "collapsed": true
   },
   "outputs": [],
   "source": [
    "#calculate final grade based on score\n",
    "letter_grade=[]\n",
    "for i in final_score:\n",
    "    if i<10:\n",
    "        letter_grade.append('F')\n",
    "    elif 10 <= i <20:\n",
    "        letter_grade.append('D')\n",
    "    elif 20<=i<80:\n",
    "        letter_grade.append('C')\n",
    "    elif 80<= i<90:\n",
    "        letter_grade.append('B')\n",
    "    else:\n",
    "        letter_grade.append('A')\n"
   ]
  },
  {
   "cell_type": "code",
   "execution_count": 7,
   "metadata": {},
   "outputs": [
    {
     "name": "stdout",
     "output_type": "stream",
     "text": [
      "['Abel', 'Albina', 'Alisha', 'Alishia', 'Allene', 'Amber', 'Ammie', 'Arlene', 'Arlette', 'Art', 'Bernardo', 'Bette', 'Blair', 'Blondell', 'Bobbye', 'Brock', 'Cammy', 'Carma', 'Carmelina', 'Cecily', 'Chanel', 'Cory', 'Danica', 'Deeanna', 'Delisa', 'Delmy', 'Devorah', 'Dominque', 'Donette', 'Dyan', 'Elly', 'Elvera', 'Elza', 'Emerson', 'Erick', 'Ernie', 'Ezekiel', 'Fatima', 'Fletcher', 'Francine', 'Gladys', 'Graciela', 'Ilene', 'Jamal', 'James', 'Jina', 'Johnetta', 'Jose', 'Josephine', 'Kallie', 'Kanisha', 'Karl', 'Kati', 'Kiley', 'Kris', 'Lai', 'Laurel', 'Lavera', 'Lenna', 'Leota', 'Lettie', 'Lisha', 'Lorrie', 'Malinda', 'Marjory', 'Maryann', 'Mattie', 'Maurine', 'Meaghan', 'Micaela', 'Minna', 'Mitsue', 'Moon', 'Myra', 'Natalie', 'Penney', 'Roxane', 'Rozella', 'Sabra', 'Sage', 'Shenika', 'Simona', 'Solange', 'Stephaine', 'Stephen', 'Tamar', 'Tammara', 'Tawna', 'Timothy', 'Tonette', 'Tyra', 'Valentine', 'Vallie', 'Veronika', 'Viva', 'Wilda', 'Willard', 'Willow', 'Youlanda', 'Yuki']\n"
     ]
    }
   ],
   "source": [
    "#sort student names before building a dictionary\n",
    "keys.sort()\n",
    "print(keys)"
   ]
  },
  {
   "cell_type": "code",
   "execution_count": 8,
   "metadata": {},
   "outputs": [
    {
     "name": "stdout",
     "output_type": "stream",
     "text": [
      "{'Abel': {'score': 50.2, 'grade': 'C'}, 'Albina': {'score': 82.80000000000001, 'grade': 'B'}, 'Alisha': {'score': 91.7, 'grade': 'A'}, 'Alishia': {'score': 66.69999999999999, 'grade': 'C'}, 'Allene': {'score': 59.8, 'grade': 'C'}, 'Amber': {'score': 67.4, 'grade': 'C'}, 'Ammie': {'score': 38.8, 'grade': 'C'}, 'Arlene': {'score': 68.5, 'grade': 'C'}, 'Arlette': {'score': 64.1, 'grade': 'C'}, 'Art': {'score': 63.8, 'grade': 'C'}, 'Bernardo': {'score': 44.2, 'grade': 'C'}, 'Bette': {'score': 52.099999999999994, 'grade': 'C'}, 'Blair': {'score': 55.8, 'grade': 'C'}, 'Blondell': {'score': 74.0, 'grade': 'C'}, 'Bobbye': {'score': 59.8, 'grade': 'C'}, 'Brock': {'score': 71.39999999999999, 'grade': 'C'}, 'Cammy': {'score': 75.4, 'grade': 'C'}, 'Carma': {'score': 70.9, 'grade': 'C'}, 'Carmelina': {'score': 80.5, 'grade': 'B'}, 'Cecily': {'score': 73.9, 'grade': 'C'}, 'Chanel': {'score': 61.2, 'grade': 'C'}, 'Cory': {'score': 82.7, 'grade': 'B'}, 'Danica': {'score': 68.6, 'grade': 'C'}, 'Deeanna': {'score': 58.2, 'grade': 'C'}, 'Delisa': {'score': 68.5, 'grade': 'C'}, 'Delmy': {'score': 81.0, 'grade': 'B'}, 'Devorah': {'score': 49.0, 'grade': 'C'}, 'Dominque': {'score': 61.39999999999999, 'grade': 'C'}, 'Donette': {'score': 92.7, 'grade': 'A'}, 'Dyan': {'score': 45.0, 'grade': 'C'}, 'Elly': {'score': 66.5, 'grade': 'C'}, 'Elvera': {'score': 85.9, 'grade': 'B'}, 'Elza': {'score': 69.2, 'grade': 'C'}, 'Emerson': {'score': 31.799999999999997, 'grade': 'C'}, 'Erick': {'score': 66.5, 'grade': 'C'}, 'Ernie': {'score': 67.0, 'grade': 'C'}, 'Ezekiel': {'score': 65.6, 'grade': 'C'}, 'Fatima': {'score': 68.9, 'grade': 'C'}, 'Fletcher': {'score': 81.6, 'grade': 'B'}, 'Francine': {'score': 80.2, 'grade': 'B'}, 'Gladys': {'score': 83.6, 'grade': 'B'}, 'Graciela': {'score': 99.7, 'grade': 'A'}, 'Ilene': {'score': 60.1, 'grade': 'C'}, 'Jamal': {'score': 54.300000000000004, 'grade': 'C'}, 'James': {'score': 58.8, 'grade': 'C'}, 'Jina': {'score': 97.9, 'grade': 'A'}, 'Johnetta': {'score': 85.69999999999999, 'grade': 'B'}, 'Jose': {'score': 62.6, 'grade': 'C'}, 'Josephine': {'score': 63.5, 'grade': 'C'}, 'Kallie': {'score': 91.4, 'grade': 'A'}, 'Kanisha': {'score': 75.19999999999999, 'grade': 'C'}, 'Karl': {'score': 65.8, 'grade': 'C'}, 'Kati': {'score': 48.1, 'grade': 'C'}, 'Kiley': {'score': 74.6, 'grade': 'C'}, 'Kris': {'score': 83.5, 'grade': 'B'}, 'Lai': {'score': 45.2, 'grade': 'C'}, 'Laurel': {'score': 78.8, 'grade': 'C'}, 'Lavera': {'score': 69.8, 'grade': 'C'}, 'Lenna': {'score': 85.4, 'grade': 'B'}, 'Leota': {'score': 81.8, 'grade': 'B'}, 'Lettie': {'score': 32.3, 'grade': 'C'}, 'Lisha': {'score': 73.0, 'grade': 'C'}, 'Lorrie': {'score': 48.2, 'grade': 'C'}, 'Malinda': {'score': 58.900000000000006, 'grade': 'C'}, 'Marjory': {'score': 74.5, 'grade': 'C'}, 'Maryann': {'score': 51.4, 'grade': 'C'}, 'Mattie': {'score': 64.6, 'grade': 'C'}, 'Maurine': {'score': 51.8, 'grade': 'C'}, 'Meaghan': {'score': 65.0, 'grade': 'C'}, 'Micaela': {'score': 87.8, 'grade': 'B'}, 'Minna': {'score': 68.7, 'grade': 'C'}, 'Mitsue': {'score': 93.69999999999999, 'grade': 'A'}, 'Moon': {'score': 57.9, 'grade': 'C'}, 'Myra': {'score': 72.2, 'grade': 'C'}, 'Natalie': {'score': 60.900000000000006, 'grade': 'C'}, 'Penney': {'score': 74.2, 'grade': 'C'}, 'Roxane': {'score': 90.80000000000001, 'grade': 'A'}, 'Rozella': {'score': 77.1, 'grade': 'C'}, 'Sabra': {'score': 91.9, 'grade': 'A'}, 'Sage': {'score': 71.0, 'grade': 'C'}, 'Shenika': {'score': 82.8, 'grade': 'B'}, 'Simona': {'score': 78.0, 'grade': 'C'}, 'Solange': {'score': 67.9, 'grade': 'C'}, 'Stephaine': {'score': 53.5, 'grade': 'C'}, 'Stephen': {'score': 71.6, 'grade': 'C'}, 'Tamar': {'score': 47.7, 'grade': 'C'}, 'Tammara': {'score': 68.1, 'grade': 'C'}, 'Tawna': {'score': 69.1, 'grade': 'C'}, 'Timothy': {'score': 73.6, 'grade': 'C'}, 'Tonette': {'score': 74.6, 'grade': 'C'}, 'Tyra': {'score': 77.69999999999999, 'grade': 'C'}, 'Valentine': {'score': 84.30000000000001, 'grade': 'B'}, 'Vallie': {'score': 56.2, 'grade': 'C'}, 'Veronika': {'score': 80.4, 'grade': 'B'}, 'Viva': {'score': 83.6, 'grade': 'B'}, 'Wilda': {'score': 61.7, 'grade': 'C'}, 'Willard': {'score': 60.4, 'grade': 'C'}, 'Willow': {'score': 90.4, 'grade': 'A'}, 'Youlanda': {'score': 62.8, 'grade': 'C'}, 'Yuki': {'score': 65.9, 'grade': 'C'}}\n"
     ]
    }
   ],
   "source": [
    "#create a dictionary using student names as keys\n",
    "\n",
    "def create_dict(name,score,grade):\n",
    "    students={}\n",
    "    for i in range(len(name)):\n",
    "        students[name[i]] = {}\n",
    "        students[name[i]]['score'] = score[i]\n",
    "        students[name[i]]['grade'] = grade[i]\n",
    "    return students\n",
    "\n",
    "final_dict = create_dict(keys,final_score,letter_grade)\n",
    "print(final_dict)"
   ]
  },
  {
   "cell_type": "code",
   "execution_count": 9,
   "metadata": {},
   "outputs": [
    {
     "name": "stdout",
     "output_type": "stream",
     "text": [
      "The number of students is: 100\n",
      "The minimum student score is: 31.8\n",
      "The maximum student score is: 99.7\n",
      "The mean student score is: 69.05\n",
      "The mode of student letter grade is: C\n",
      "The standard deviation of student score is: 14.2\n",
      "None\n"
     ]
    }
   ],
   "source": [
    "import statistics\n",
    "\n",
    "def score_summary():\n",
    "    print(\"The number of students is:\",len(final_dict))\n",
    "    print(\"The minimum student score is:\", round((min(v['score'] for k,v in final_dict.items())),2))\n",
    "    print(\"The maximum student score is:\", round((max(v['score'] for k,v in final_dict.items())),2))\n",
    "    print(\"The mean student score is:\", round((statistics.mean(v['score'] for k,v in final_dict.items())),2))\n",
    "    print(\"The mode of student letter grade is:\", (statistics.mode(v['grade'] for k,v in final_dict.items())))\n",
    "    print(\"The standard deviation of student score is:\", round((statistics.stdev(v['score'] for k,v in final_dict.items())),2)) \n",
    "\n",
    "print(score_summary())"
   ]
  },
  {
   "cell_type": "code",
   "execution_count": 10,
   "metadata": {},
   "outputs": [
    {
     "name": "stdout",
     "output_type": "stream",
     "text": [
      "[99.7, 97.9]\n"
     ]
    }
   ],
   "source": [
    "#identify values larger than the mean + 2*std\n",
    "def extreme_values():\n",
    "    value =[]\n",
    "    mean = statistics.mean(v['score'] for k,v in final_dict.items())\n",
    "    stdv = statistics.stdev(v['score'] for k,v in final_dict.items())\n",
    "    for k,v in final_dict.items():\n",
    "        if v['score'] > mean+2*stdv:\n",
    "            value.append(v['score'])\n",
    "    return value\n",
    "\n",
    "print(extreme_values())"
   ]
  },
  {
   "cell_type": "code",
   "execution_count": 11,
   "metadata": {},
   "outputs": [
    {
     "name": "stdout",
     "output_type": "stream",
     "text": [
      "{'C': 74, 'B': 17, 'A': 9}\n"
     ]
    }
   ],
   "source": [
    "letter_count={}\n",
    "\n",
    "for i in letter_grade:\n",
    "    if i in letter_count:\n",
    "        letter_count[i] +=1\n",
    "    else:\n",
    "        letter_count[i] =1\n",
    "print(letter_count)"
   ]
  },
  {
   "cell_type": "code",
   "execution_count": 12,
   "metadata": {},
   "outputs": [
    {
     "data": {
      "text/plain": [
       "([<matplotlib.patches.Wedge at 0x1174ea7f0>,\n",
       "  <matplotlib.patches.Wedge at 0x1174f99b0>,\n",
       "  <matplotlib.patches.Wedge at 0x117500b70>],\n",
       " [<matplotlib.text.Text at 0x1174eaf60>,\n",
       "  <matplotlib.text.Text at 0x117500160>,\n",
       "  <matplotlib.text.Text at 0x11750a320>],\n",
       " [<matplotlib.text.Text at 0x1174f94a8>,\n",
       "  <matplotlib.text.Text at 0x117500668>,\n",
       "  <matplotlib.text.Text at 0x11750a828>])"
      ]
     },
     "execution_count": 12,
     "metadata": {},
     "output_type": "execute_result"
    }
   ],
   "source": [
    "#pie chart showing the final letter grades distribution.\n",
    "import matplotlib.pyplot as plt\n",
    "\n",
    "plt.figure(figsize=plt.figaspect(1))\n",
    "values = [74, 17, 9] \n",
    "labels = ['C', 'B', 'A',] \n",
    "\n",
    "def make_autopct(values):\n",
    "    def my_autopct(pct):\n",
    "        total = sum(values)\n",
    "        val = int(round(pct*total/100.0))\n",
    "        return '{p:.2f}%  ({v:d})'.format(p=pct,v=val)\n",
    "    return my_autopct\n",
    "\n",
    "plt.pie(values, labels=labels, autopct=make_autopct(values))\n",
    "#plt.show()"
   ]
  },
  {
   "cell_type": "code",
   "execution_count": 13,
   "metadata": {},
   "outputs": [
    {
     "name": "stdout",
     "output_type": "stream",
     "text": [
      "box plot min: 31.8\n",
      "box plot max: 99.7\n",
      "box plot median: 68.65\n",
      "box plot Q1: 60.25\n",
      "box plot Q3: 80.3\n",
      "None\n"
     ]
    }
   ],
   "source": [
    "#create boxplot parameters, compute the numbers [min, max, medial, Q1, Q3] for a box plot\n",
    "def box_plot():\n",
    "    final_score.sort()\n",
    "    print(\"box plot min:\", round(min(final_score),2))\n",
    "    print(\"box plot max:\", round(max(final_score),2))\n",
    "    print(\"box plot median:\", round(statistics.median(final_score),2))\n",
    "    print(\"box plot Q1:\", round(statistics.median(final_score[0:50]),2))\n",
    "    print(\"box plot Q3:\", round(statistics.median(final_score[50:100]),2))\n",
    "\n",
    "print (box_plot())"
   ]
  },
  {
   "cell_type": "code",
   "execution_count": 14,
   "metadata": {},
   "outputs": [
    {
     "name": "stdout",
     "output_type": "stream",
     "text": [
      "Hello, please refer to the menu below: \n",
      "\n",
      "[1] Enter 1 to load the data from exams.csv file.\n",
      "[2] Enter 2 to print a list of student names, final scores, and letter grades sorted by names.\n",
      "[3] Enter 3 to print a score summary.\n",
      "[4] Enter 4 to print values larger than the mean and two times standard deviation.\n",
      "[5] Enter 5 to plot a pie chart.\n",
      "[6] Enter 6 to view box plot parameters.\n",
      "[q] Enter q to quit.\n",
      "\n",
      "What would you like to do?1\n",
      "\n",
      "Exams.csv is now loaded.\n",
      "\n",
      "\n",
      "[1] Enter 1 to load the data from exams.csv file.\n",
      "[2] Enter 2 to print a list of student names, final scores, and letter grades sorted by names.\n",
      "[3] Enter 3 to print a score summary.\n",
      "[4] Enter 4 to print values larger than the mean and two times standard deviation.\n",
      "[5] Enter 5 to plot a pie chart.\n",
      "[6] Enter 6 to view box plot parameters.\n",
      "[q] Enter q to quit.\n",
      "\n",
      "What would you like to do?2\n",
      "{'Abel': {'score': 31.799999999999997, 'grade': 'C'}, 'Albina': {'score': 32.3, 'grade': 'B'}, 'Alisha': {'score': 38.8, 'grade': 'A'}, 'Alishia': {'score': 44.2, 'grade': 'C'}, 'Allene': {'score': 45.0, 'grade': 'C'}, 'Amber': {'score': 45.2, 'grade': 'C'}, 'Ammie': {'score': 47.7, 'grade': 'C'}, 'Arlene': {'score': 48.1, 'grade': 'C'}, 'Arlette': {'score': 48.2, 'grade': 'C'}, 'Art': {'score': 49.0, 'grade': 'C'}, 'Bernardo': {'score': 50.2, 'grade': 'C'}, 'Bette': {'score': 51.4, 'grade': 'C'}, 'Blair': {'score': 51.8, 'grade': 'C'}, 'Blondell': {'score': 52.099999999999994, 'grade': 'C'}, 'Bobbye': {'score': 53.5, 'grade': 'C'}, 'Brock': {'score': 54.300000000000004, 'grade': 'C'}, 'Cammy': {'score': 55.8, 'grade': 'C'}, 'Carma': {'score': 56.2, 'grade': 'C'}, 'Carmelina': {'score': 57.9, 'grade': 'B'}, 'Cecily': {'score': 58.2, 'grade': 'C'}, 'Chanel': {'score': 58.8, 'grade': 'C'}, 'Cory': {'score': 58.900000000000006, 'grade': 'B'}, 'Danica': {'score': 59.8, 'grade': 'C'}, 'Deeanna': {'score': 59.8, 'grade': 'C'}, 'Delisa': {'score': 60.1, 'grade': 'C'}, 'Delmy': {'score': 60.4, 'grade': 'B'}, 'Devorah': {'score': 60.900000000000006, 'grade': 'C'}, 'Dominque': {'score': 61.2, 'grade': 'C'}, 'Donette': {'score': 61.39999999999999, 'grade': 'A'}, 'Dyan': {'score': 61.7, 'grade': 'C'}, 'Elly': {'score': 62.6, 'grade': 'C'}, 'Elvera': {'score': 62.8, 'grade': 'B'}, 'Elza': {'score': 63.5, 'grade': 'C'}, 'Emerson': {'score': 63.8, 'grade': 'C'}, 'Erick': {'score': 64.1, 'grade': 'C'}, 'Ernie': {'score': 64.6, 'grade': 'C'}, 'Ezekiel': {'score': 65.0, 'grade': 'C'}, 'Fatima': {'score': 65.6, 'grade': 'C'}, 'Fletcher': {'score': 65.8, 'grade': 'B'}, 'Francine': {'score': 65.9, 'grade': 'B'}, 'Gladys': {'score': 66.5, 'grade': 'B'}, 'Graciela': {'score': 66.5, 'grade': 'A'}, 'Ilene': {'score': 66.69999999999999, 'grade': 'C'}, 'Jamal': {'score': 67.0, 'grade': 'C'}, 'James': {'score': 67.4, 'grade': 'C'}, 'Jina': {'score': 67.9, 'grade': 'A'}, 'Johnetta': {'score': 68.1, 'grade': 'B'}, 'Jose': {'score': 68.5, 'grade': 'C'}, 'Josephine': {'score': 68.5, 'grade': 'C'}, 'Kallie': {'score': 68.6, 'grade': 'A'}, 'Kanisha': {'score': 68.7, 'grade': 'C'}, 'Karl': {'score': 68.9, 'grade': 'C'}, 'Kati': {'score': 69.1, 'grade': 'C'}, 'Kiley': {'score': 69.2, 'grade': 'C'}, 'Kris': {'score': 69.8, 'grade': 'B'}, 'Lai': {'score': 70.9, 'grade': 'C'}, 'Laurel': {'score': 71.0, 'grade': 'C'}, 'Lavera': {'score': 71.39999999999999, 'grade': 'C'}, 'Lenna': {'score': 71.6, 'grade': 'B'}, 'Leota': {'score': 72.2, 'grade': 'B'}, 'Lettie': {'score': 73.0, 'grade': 'C'}, 'Lisha': {'score': 73.6, 'grade': 'C'}, 'Lorrie': {'score': 73.9, 'grade': 'C'}, 'Malinda': {'score': 74.0, 'grade': 'C'}, 'Marjory': {'score': 74.2, 'grade': 'C'}, 'Maryann': {'score': 74.5, 'grade': 'C'}, 'Mattie': {'score': 74.6, 'grade': 'C'}, 'Maurine': {'score': 74.6, 'grade': 'C'}, 'Meaghan': {'score': 75.19999999999999, 'grade': 'C'}, 'Micaela': {'score': 75.4, 'grade': 'B'}, 'Minna': {'score': 77.1, 'grade': 'C'}, 'Mitsue': {'score': 77.69999999999999, 'grade': 'A'}, 'Moon': {'score': 78.0, 'grade': 'C'}, 'Myra': {'score': 78.8, 'grade': 'C'}, 'Natalie': {'score': 80.2, 'grade': 'C'}, 'Penney': {'score': 80.4, 'grade': 'C'}, 'Roxane': {'score': 80.5, 'grade': 'A'}, 'Rozella': {'score': 81.0, 'grade': 'C'}, 'Sabra': {'score': 81.6, 'grade': 'A'}, 'Sage': {'score': 81.8, 'grade': 'C'}, 'Shenika': {'score': 82.7, 'grade': 'B'}, 'Simona': {'score': 82.8, 'grade': 'C'}, 'Solange': {'score': 82.80000000000001, 'grade': 'C'}, 'Stephaine': {'score': 83.5, 'grade': 'C'}, 'Stephen': {'score': 83.6, 'grade': 'C'}, 'Tamar': {'score': 83.6, 'grade': 'C'}, 'Tammara': {'score': 84.30000000000001, 'grade': 'C'}, 'Tawna': {'score': 85.4, 'grade': 'C'}, 'Timothy': {'score': 85.69999999999999, 'grade': 'C'}, 'Tonette': {'score': 85.9, 'grade': 'C'}, 'Tyra': {'score': 87.8, 'grade': 'C'}, 'Valentine': {'score': 90.4, 'grade': 'B'}, 'Vallie': {'score': 90.80000000000001, 'grade': 'C'}, 'Veronika': {'score': 91.4, 'grade': 'B'}, 'Viva': {'score': 91.7, 'grade': 'B'}, 'Wilda': {'score': 91.9, 'grade': 'C'}, 'Willard': {'score': 92.7, 'grade': 'C'}, 'Willow': {'score': 93.69999999999999, 'grade': 'A'}, 'Youlanda': {'score': 97.9, 'grade': 'C'}, 'Yuki': {'score': 99.7, 'grade': 'C'}}\n",
      "\n",
      "[1] Enter 1 to load the data from exams.csv file.\n",
      "[2] Enter 2 to print a list of student names, final scores, and letter grades sorted by names.\n",
      "[3] Enter 3 to print a score summary.\n",
      "[4] Enter 4 to print values larger than the mean and two times standard deviation.\n",
      "[5] Enter 5 to plot a pie chart.\n",
      "[6] Enter 6 to view box plot parameters.\n",
      "[q] Enter q to quit.\n",
      "\n",
      "What would you like to do?3\n",
      "The number of students is: 100\n",
      "The minimum student score is: 31.8\n",
      "The maximum student score is: 99.7\n",
      "The mean student score is: 69.05\n",
      "The mode of student letter grade is: C\n",
      "The standard deviation of student score is: 14.2\n",
      "\n",
      "[1] Enter 1 to load the data from exams.csv file.\n",
      "[2] Enter 2 to print a list of student names, final scores, and letter grades sorted by names.\n",
      "[3] Enter 3 to print a score summary.\n",
      "[4] Enter 4 to print values larger than the mean and two times standard deviation.\n",
      "[5] Enter 5 to plot a pie chart.\n",
      "[6] Enter 6 to view box plot parameters.\n",
      "[q] Enter q to quit.\n",
      "\n",
      "What would you like to do?4\n",
      "[99.7, 97.9]\n",
      "\n",
      "[1] Enter 1 to load the data from exams.csv file.\n",
      "[2] Enter 2 to print a list of student names, final scores, and letter grades sorted by names.\n",
      "[3] Enter 3 to print a score summary.\n",
      "[4] Enter 4 to print values larger than the mean and two times standard deviation.\n",
      "[5] Enter 5 to plot a pie chart.\n",
      "[6] Enter 6 to view box plot parameters.\n",
      "[q] Enter q to quit.\n",
      "\n",
      "What would you like to do?5\n"
     ]
    },
    {
     "data": {
      "image/png": "[encoded data removed]",
      "text/plain": [
       "<matplotlib.figure.Figure at 0x10dee8e10>"
      ]
     },
     "metadata": {},
     "output_type": "display_data"
    },
    {
     "name": "stdout",
     "output_type": "stream",
     "text": [
      "\n",
      "[1] Enter 1 to load the data from exams.csv file.\n",
      "[2] Enter 2 to print a list of student names, final scores, and letter grades sorted by names.\n",
      "[3] Enter 3 to print a score summary.\n",
      "[4] Enter 4 to print values larger than the mean and two times standard deviation.\n",
      "[5] Enter 5 to plot a pie chart.\n",
      "[6] Enter 6 to view box plot parameters.\n",
      "[q] Enter q to quit.\n",
      "\n",
      "What would you like to do?6\n",
      "box plot min: 31.8\n",
      "box plot max: 99.7\n",
      "box plot median: 68.65\n",
      "box plot Q1: 60.25\n",
      "box plot Q3: 80.3\n",
      "\n",
      "[1] Enter 1 to load the data from exams.csv file.\n",
      "[2] Enter 2 to print a list of student names, final scores, and letter grades sorted by names.\n",
      "[3] Enter 3 to print a score summary.\n",
      "[4] Enter 4 to print values larger than the mean and two times standard deviation.\n",
      "[5] Enter 5 to plot a pie chart.\n",
      "[6] Enter 6 to view box plot parameters.\n",
      "[q] Enter q to quit.\n",
      "\n",
      "What would you like to do?7\n",
      "\n",
      "I don't understand that choice, please try again.\n",
      "\n",
      "\n",
      "[1] Enter 1 to load the data from exams.csv file.\n",
      "[2] Enter 2 to print a list of student names, final scores, and letter grades sorted by names.\n",
      "[3] Enter 3 to print a score summary.\n",
      "[4] Enter 4 to print values larger than the mean and two times standard deviation.\n",
      "[5] Enter 5 to plot a pie chart.\n",
      "[6] Enter 6 to view box plot parameters.\n",
      "[q] Enter q to quit.\n",
      "\n",
      "What would you like to do?q\n",
      "\n",
      "Thanks for your time.\n",
      "\n"
     ]
    }
   ],
   "source": [
    "print(\"Hello, please refer to the menu below: \")\n",
    "\n",
    "choice = ''\n",
    "\n",
    "while choice != 'q':\n",
    "    print(\"\\n[1] Enter 1 to load the data from exams.csv file.\")\n",
    "    print(\"[2] Enter 2 to print a list of student names, final scores, and letter grades sorted by names.\")\n",
    "    print(\"[3] Enter 3 to print a score summary.\")\n",
    "    print(\"[4] Enter 4 to print values larger than the mean and two times standard deviation.\")\n",
    "    print(\"[5] Enter 5 to plot a pie chart.\")\n",
    "    print(\"[6] Enter 6 to view box plot parameters.\")\n",
    "    print(\"[q] Enter q to quit.\")\n",
    "    \n",
    "    choice = input(\"\\nWhat would you like to do?\")\n",
    "    \n",
    "    if choice == '1':\n",
    "        print(\"\\nExams.csv is now loaded.\\n\")\n",
    "    elif choice == '2':\n",
    "        print(create_dict(keys,final_score,letter_grade))\n",
    "    elif choice == '3':\n",
    "        score_summary()\n",
    "    elif choice =='4':\n",
    "        print(extreme_values())\n",
    "    elif choice =='5':\n",
    "        plt.show()\n",
    "    elif choice =='6':\n",
    "        box_plot()\n",
    "    elif choice == 'q':\n",
    "        print(\"\\nThanks for your time.\\n\")\n",
    "    else:\n",
    "        print(\"\\nI don't understand that choice, please try again.\\n\")\n"
   ]
  },
  {
   "cell_type": "markdown",
   "metadata": {},
   "source": [
    "## Exercise 3 - PyPI extension library"
   ]
  },
  {
   "cell_type": "markdown",
   "metadata": {
    "collapsed": true
   },
   "source": [
    "Summarize the functionality provided by the library (one paragraph) and show a usage example:\n",
    "The python external library that I would like to explore is Plotly, which can import data easily and create many creative visualizations. I chose this library to explore because it is a very useful tool for displaying the data insights which is very important for data science projects. I have installed plotly in my terminal and will show a usage example using an online csv dataset."
   ]
  },
  {
   "cell_type": "code",
   "execution_count": 23,
   "metadata": {},
   "outputs": [
    {
     "name": "stdout",
     "output_type": "stream",
     "text": [
      "2.0.15\n"
     ]
    }
   ],
   "source": [
    "#import plotly.offline\n",
    "from plotly import __version__\n",
    "from plotly.offline import download_plotlyjs, init_notebook_mode, plot, iplot\n",
    "\n",
    "print (__version__)"
   ]
  },
  {
   "cell_type": "code",
   "execution_count": 24,
   "metadata": {},
   "outputs": [
    {
     "data": {
      "text/html": [
       "<div>\n",
       "<style>\n",
       "    .dataframe thead tr:only-child th {\n",
       "        text-align: right;\n",
       "    }\n",
       "\n",
       "    .dataframe thead th {\n",
       "        text-align: left;\n",
       "    }\n",
       "\n",
       "    .dataframe tbody tr th {\n",
       "        vertical-align: top;\n",
       "    }\n",
       "</style>\n",
       "<table border=\"1\" class=\"dataframe\">\n",
       "  <thead>\n",
       "    <tr style=\"text-align: right;\">\n",
       "      <th></th>\n",
       "      <th>School</th>\n",
       "      <th>Women</th>\n",
       "      <th>Men</th>\n",
       "      <th>gap</th>\n",
       "    </tr>\n",
       "  </thead>\n",
       "  <tbody>\n",
       "    <tr>\n",
       "      <th>0</th>\n",
       "      <td>MIT</td>\n",
       "      <td>94</td>\n",
       "      <td>152</td>\n",
       "      <td>58</td>\n",
       "    </tr>\n",
       "    <tr>\n",
       "      <th>1</th>\n",
       "      <td>Stanford</td>\n",
       "      <td>96</td>\n",
       "      <td>151</td>\n",
       "      <td>55</td>\n",
       "    </tr>\n",
       "    <tr>\n",
       "      <th>2</th>\n",
       "      <td>Harvard</td>\n",
       "      <td>112</td>\n",
       "      <td>165</td>\n",
       "      <td>53</td>\n",
       "    </tr>\n",
       "    <tr>\n",
       "      <th>3</th>\n",
       "      <td>U.Penn</td>\n",
       "      <td>92</td>\n",
       "      <td>141</td>\n",
       "      <td>49</td>\n",
       "    </tr>\n",
       "    <tr>\n",
       "      <th>4</th>\n",
       "      <td>Princeton</td>\n",
       "      <td>90</td>\n",
       "      <td>137</td>\n",
       "      <td>47</td>\n",
       "    </tr>\n",
       "    <tr>\n",
       "      <th>5</th>\n",
       "      <td>Chicago</td>\n",
       "      <td>78</td>\n",
       "      <td>118</td>\n",
       "      <td>40</td>\n",
       "    </tr>\n",
       "    <tr>\n",
       "      <th>6</th>\n",
       "      <td>Georgetown</td>\n",
       "      <td>94</td>\n",
       "      <td>131</td>\n",
       "      <td>37</td>\n",
       "    </tr>\n",
       "    <tr>\n",
       "      <th>7</th>\n",
       "      <td>Tufts</td>\n",
       "      <td>76</td>\n",
       "      <td>112</td>\n",
       "      <td>36</td>\n",
       "    </tr>\n",
       "    <tr>\n",
       "      <th>8</th>\n",
       "      <td>Yale</td>\n",
       "      <td>79</td>\n",
       "      <td>114</td>\n",
       "      <td>35</td>\n",
       "    </tr>\n",
       "    <tr>\n",
       "      <th>9</th>\n",
       "      <td>Columbia</td>\n",
       "      <td>86</td>\n",
       "      <td>119</td>\n",
       "      <td>33</td>\n",
       "    </tr>\n",
       "    <tr>\n",
       "      <th>10</th>\n",
       "      <td>Duke</td>\n",
       "      <td>93</td>\n",
       "      <td>124</td>\n",
       "      <td>31</td>\n",
       "    </tr>\n",
       "    <tr>\n",
       "      <th>11</th>\n",
       "      <td>Dartmouth</td>\n",
       "      <td>84</td>\n",
       "      <td>114</td>\n",
       "      <td>30</td>\n",
       "    </tr>\n",
       "    <tr>\n",
       "      <th>12</th>\n",
       "      <td>NYU</td>\n",
       "      <td>67</td>\n",
       "      <td>94</td>\n",
       "      <td>27</td>\n",
       "    </tr>\n",
       "    <tr>\n",
       "      <th>13</th>\n",
       "      <td>Notre Dame</td>\n",
       "      <td>73</td>\n",
       "      <td>100</td>\n",
       "      <td>27</td>\n",
       "    </tr>\n",
       "    <tr>\n",
       "      <th>14</th>\n",
       "      <td>Cornell</td>\n",
       "      <td>80</td>\n",
       "      <td>107</td>\n",
       "      <td>27</td>\n",
       "    </tr>\n",
       "    <tr>\n",
       "      <th>15</th>\n",
       "      <td>Michigan</td>\n",
       "      <td>62</td>\n",
       "      <td>84</td>\n",
       "      <td>22</td>\n",
       "    </tr>\n",
       "    <tr>\n",
       "      <th>16</th>\n",
       "      <td>Brown</td>\n",
       "      <td>72</td>\n",
       "      <td>92</td>\n",
       "      <td>20</td>\n",
       "    </tr>\n",
       "    <tr>\n",
       "      <th>17</th>\n",
       "      <td>Berkeley</td>\n",
       "      <td>71</td>\n",
       "      <td>88</td>\n",
       "      <td>17</td>\n",
       "    </tr>\n",
       "    <tr>\n",
       "      <th>18</th>\n",
       "      <td>Emory</td>\n",
       "      <td>68</td>\n",
       "      <td>82</td>\n",
       "      <td>14</td>\n",
       "    </tr>\n",
       "    <tr>\n",
       "      <th>19</th>\n",
       "      <td>UCLA</td>\n",
       "      <td>64</td>\n",
       "      <td>78</td>\n",
       "      <td>14</td>\n",
       "    </tr>\n",
       "    <tr>\n",
       "      <th>20</th>\n",
       "      <td>SoCal</td>\n",
       "      <td>72</td>\n",
       "      <td>81</td>\n",
       "      <td>9</td>\n",
       "    </tr>\n",
       "  </tbody>\n",
       "</table>\n",
       "</div>"
      ],
      "text/plain": [
       "        School  Women  Men  gap\n",
       "0          MIT     94  152   58\n",
       "1     Stanford     96  151   55\n",
       "2      Harvard    112  165   53\n",
       "3       U.Penn     92  141   49\n",
       "4    Princeton     90  137   47\n",
       "5      Chicago     78  118   40\n",
       "6   Georgetown     94  131   37\n",
       "7        Tufts     76  112   36\n",
       "8         Yale     79  114   35\n",
       "9     Columbia     86  119   33\n",
       "10        Duke     93  124   31\n",
       "11   Dartmouth     84  114   30\n",
       "12         NYU     67   94   27\n",
       "13  Notre Dame     73  100   27\n",
       "14     Cornell     80  107   27\n",
       "15    Michigan     62   84   22\n",
       "16       Brown     72   92   20\n",
       "17    Berkeley     71   88   17\n",
       "18       Emory     68   82   14\n",
       "19        UCLA     64   78   14\n",
       "20       SoCal     72   81    9"
      ]
     },
     "execution_count": 24,
     "metadata": {},
     "output_type": "execute_result"
    }
   ],
   "source": [
    "#step 1: import plotly and import data\n",
    "import plotly.plotly as py\n",
    "import plotly.offline as offline\n",
    "import plotly.graph_objs as go\n",
    "import plotly.figure_factory as ff\n",
    "import pandas as pd\n",
    "\n",
    "df = pd.read_csv(\"https://raw.githubusercontent.com/plotly/datasets/master/school_earnings.csv\")\n",
    "df"
   ]
  },
  {
   "cell_type": "code",
   "execution_count": 25,
   "metadata": {},
   "outputs": [
    {
     "data": {
      "text/html": [
       "<script>requirejs.config({paths: { 'plotly': ['https://cdn.plot.ly/plotly-latest.min']},});if(!window.Plotly) {{require(['plotly'],function(plotly) {window.Plotly=plotly;});}}</script>"
      ],
      "text/vnd.plotly.v1+html": [
       "<script>requirejs.config({paths: { 'plotly': ['https://cdn.plot.ly/plotly-latest.min']},});if(!window.Plotly) {{require(['plotly'],function(plotly) {window.Plotly=plotly;});}}</script>"
      ]
     },
     "metadata": {},
     "output_type": "display_data"
    },
    {
     "data": {
      "application/vnd.plotly.v1+json": {
       "data": [
        {
         "colorscale": [
          [
           0,
           "#00083e"
          ],
          [
           0.5,
           "#ededee"
          ],
          [
           1,
           "#ffffff"
          ]
         ],
         "hoverinfo": "none",
         "opacity": 0.75,
         "showscale": false,
         "type": "heatmap",
         "z": [
          [
           0,
           0,
           0,
           0
          ],
          [
           0.5,
           0.5,
           0.5,
           0.5
          ],
          [
           1,
           1,
           1,
           1
          ],
          [
           0.5,
           0.5,
           0.5,
           0.5
          ],
          [
           1,
           1,
           1,
           1
          ],
          [
           0.5,
           0.5,
           0.5,
           0.5
          ],
          [
           1,
           1,
           1,
           1
          ],
          [
           0.5,
           0.5,
           0.5,
           0.5
          ],
          [
           1,
           1,
           1,
           1
          ],
          [
           0.5,
           0.5,
           0.5,
           0.5
          ],
          [
           1,
           1,
           1,
           1
          ],
          [
           0.5,
           0.5,
           0.5,
           0.5
          ],
          [
           1,
           1,
           1,
           1
          ],
          [
           0.5,
           0.5,
           0.5,
           0.5
          ],
          [
           1,
           1,
           1,
           1
          ],
          [
           0.5,
           0.5,
           0.5,
           0.5
          ],
          [
           1,
           1,
           1,
           1
          ],
          [
           0.5,
           0.5,
           0.5,
           0.5
          ],
          [
           1,
           1,
           1,
           1
          ],
          [
           0.5,
           0.5,
           0.5,
           0.5
          ],
          [
           1,
           1,
           1,
           1
          ],
          [
           0.5,
           0.5,
           0.5,
           0.5
          ]
         ]
        }
       ],
       "layout": {
        "annotations": [
         {
          "align": "left",
          "font": {
           "color": "#ffffff"
          },
          "showarrow": false,
          "text": "<b>School</b>",
          "x": -0.45,
          "xanchor": "left",
          "xref": "x1",
          "y": 0,
          "yref": "y1"
         },
         {
          "align": "left",
          "font": {
           "color": "#ffffff"
          },
          "showarrow": false,
          "text": "<b>Women</b>",
          "x": 0.55,
          "xanchor": "left",
          "xref": "x1",
          "y": 0,
          "yref": "y1"
         },
         {
          "align": "left",
          "font": {
           "color": "#ffffff"
          },
          "showarrow": false,
          "text": "<b>Men</b>",
          "x": 1.55,
          "xanchor": "left",
          "xref": "x1",
          "y": 0,
          "yref": "y1"
         },
         {
          "align": "left",
          "font": {
           "color": "#ffffff"
          },
          "showarrow": false,
          "text": "<b>gap</b>",
          "x": 2.55,
          "xanchor": "left",
          "xref": "x1",
          "y": 0,
          "yref": "y1"
         },
         {
          "align": "left",
          "font": {
           "color": "#000000"
          },
          "showarrow": false,
          "text": "MIT",
          "x": -0.45,
          "xanchor": "left",
          "xref": "x1",
          "y": 1,
          "yref": "y1"
         },
         {
          "align": "left",
          "font": {
           "color": "#000000"
          },
          "showarrow": false,
          "text": "94",
          "x": 0.55,
          "xanchor": "left",
          "xref": "x1",
          "y": 1,
          "yref": "y1"
         },
         {
          "align": "left",
          "font": {
           "color": "#000000"
          },
          "showarrow": false,
          "text": "152",
          "x": 1.55,
          "xanchor": "left",
          "xref": "x1",
          "y": 1,
          "yref": "y1"
         },
         {
          "align": "left",
          "font": {
           "color": "#000000"
          },
          "showarrow": false,
          "text": "58",
          "x": 2.55,
          "xanchor": "left",
          "xref": "x1",
          "y": 1,
          "yref": "y1"
         },
         {
          "align": "left",
          "font": {
           "color": "#000000"
          },
          "showarrow": false,
          "text": "Stanford",
          "x": -0.45,
          "xanchor": "left",
          "xref": "x1",
          "y": 2,
          "yref": "y1"
         },
         {
          "align": "left",
          "font": {
           "color": "#000000"
          },
          "showarrow": false,
          "text": "96",
          "x": 0.55,
          "xanchor": "left",
          "xref": "x1",
          "y": 2,
          "yref": "y1"
         },
         {
          "align": "left",
          "font": {
           "color": "#000000"
          },
          "showarrow": false,
          "text": "151",
          "x": 1.55,
          "xanchor": "left",
          "xref": "x1",
          "y": 2,
          "yref": "y1"
         },
         {
          "align": "left",
          "font": {
           "color": "#000000"
          },
          "showarrow": false,
          "text": "55",
          "x": 2.55,
          "xanchor": "left",
          "xref": "x1",
          "y": 2,
          "yref": "y1"
         },
         {
          "align": "left",
          "font": {
           "color": "#000000"
          },
          "showarrow": false,
          "text": "Harvard",
          "x": -0.45,
          "xanchor": "left",
          "xref": "x1",
          "y": 3,
          "yref": "y1"
         },
         {
          "align": "left",
          "font": {
           "color": "#000000"
          },
          "showarrow": false,
          "text": "112",
          "x": 0.55,
          "xanchor": "left",
          "xref": "x1",
          "y": 3,
          "yref": "y1"
         },
         {
          "align": "left",
          "font": {
           "color": "#000000"
          },
          "showarrow": false,
          "text": "165",
          "x": 1.55,
          "xanchor": "left",
          "xref": "x1",
          "y": 3,
          "yref": "y1"
         },
         {
          "align": "left",
          "font": {
           "color": "#000000"
          },
          "showarrow": false,
          "text": "53",
          "x": 2.55,
          "xanchor": "left",
          "xref": "x1",
          "y": 3,
          "yref": "y1"
         },
         {
          "align": "left",
          "font": {
           "color": "#000000"
          },
          "showarrow": false,
          "text": "U.Penn",
          "x": -0.45,
          "xanchor": "left",
          "xref": "x1",
          "y": 4,
          "yref": "y1"
         },
         {
          "align": "left",
          "font": {
           "color": "#000000"
          },
          "showarrow": false,
          "text": "92",
          "x": 0.55,
          "xanchor": "left",
          "xref": "x1",
          "y": 4,
          "yref": "y1"
         },
         {
          "align": "left",
          "font": {
           "color": "#000000"
          },
          "showarrow": false,
          "text": "141",
          "x": 1.55,
          "xanchor": "left",
          "xref": "x1",
          "y": 4,
          "yref": "y1"
         },
         {
          "align": "left",
          "font": {
           "color": "#000000"
          },
          "showarrow": false,
          "text": "49",
          "x": 2.55,
          "xanchor": "left",
          "xref": "x1",
          "y": 4,
          "yref": "y1"
         },
         {
          "align": "left",
          "font": {
           "color": "#000000"
          },
          "showarrow": false,
          "text": "Princeton",
          "x": -0.45,
          "xanchor": "left",
          "xref": "x1",
          "y": 5,
          "yref": "y1"
         },
         {
          "align": "left",
          "font": {
           "color": "#000000"
          },
          "showarrow": false,
          "text": "90",
          "x": 0.55,
          "xanchor": "left",
          "xref": "x1",
          "y": 5,
          "yref": "y1"
         },
         {
          "align": "left",
          "font": {
           "color": "#000000"
          },
          "showarrow": false,
          "text": "137",
          "x": 1.55,
          "xanchor": "left",
          "xref": "x1",
          "y": 5,
          "yref": "y1"
         },
         {
          "align": "left",
          "font": {
           "color": "#000000"
          },
          "showarrow": false,
          "text": "47",
          "x": 2.55,
          "xanchor": "left",
          "xref": "x1",
          "y": 5,
          "yref": "y1"
         },
         {
          "align": "left",
          "font": {
           "color": "#000000"
          },
          "showarrow": false,
          "text": "Chicago",
          "x": -0.45,
          "xanchor": "left",
          "xref": "x1",
          "y": 6,
          "yref": "y1"
         },
         {
          "align": "left",
          "font": {
           "color": "#000000"
          },
          "showarrow": false,
          "text": "78",
          "x": 0.55,
          "xanchor": "left",
          "xref": "x1",
          "y": 6,
          "yref": "y1"
         },
         {
          "align": "left",
          "font": {
           "color": "#000000"
          },
          "showarrow": false,
          "text": "118",
          "x": 1.55,
          "xanchor": "left",
          "xref": "x1",
          "y": 6,
          "yref": "y1"
         },
         {
          "align": "left",
          "font": {
           "color": "#000000"
          },
          "showarrow": false,
          "text": "40",
          "x": 2.55,
          "xanchor": "left",
          "xref": "x1",
          "y": 6,
          "yref": "y1"
         },
         {
          "align": "left",
          "font": {
           "color": "#000000"
          },
          "showarrow": false,
          "text": "Georgetown",
          "x": -0.45,
          "xanchor": "left",
          "xref": "x1",
          "y": 7,
          "yref": "y1"
         },
         {
          "align": "left",
          "font": {
           "color": "#000000"
          },
          "showarrow": false,
          "text": "94",
          "x": 0.55,
          "xanchor": "left",
          "xref": "x1",
          "y": 7,
          "yref": "y1"
         },
         {
          "align": "left",
          "font": {
           "color": "#000000"
          },
          "showarrow": false,
          "text": "131",
          "x": 1.55,
          "xanchor": "left",
          "xref": "x1",
          "y": 7,
          "yref": "y1"
         },
         {
          "align": "left",
          "font": {
           "color": "#000000"
          },
          "showarrow": false,
          "text": "37",
          "x": 2.55,
          "xanchor": "left",
          "xref": "x1",
          "y": 7,
          "yref": "y1"
         },
         {
          "align": "left",
          "font": {
           "color": "#000000"
          },
          "showarrow": false,
          "text": "Tufts",
          "x": -0.45,
          "xanchor": "left",
          "xref": "x1",
          "y": 8,
          "yref": "y1"
         },
         {
          "align": "left",
          "font": {
           "color": "#000000"
          },
          "showarrow": false,
          "text": "76",
          "x": 0.55,
          "xanchor": "left",
          "xref": "x1",
          "y": 8,
          "yref": "y1"
         },
         {
          "align": "left",
          "font": {
           "color": "#000000"
          },
          "showarrow": false,
          "text": "112",
          "x": 1.55,
          "xanchor": "left",
          "xref": "x1",
          "y": 8,
          "yref": "y1"
         },
         {
          "align": "left",
          "font": {
           "color": "#000000"
          },
          "showarrow": false,
          "text": "36",
          "x": 2.55,
          "xanchor": "left",
          "xref": "x1",
          "y": 8,
          "yref": "y1"
         },
         {
          "align": "left",
          "font": {
           "color": "#000000"
          },
          "showarrow": false,
          "text": "Yale",
          "x": -0.45,
          "xanchor": "left",
          "xref": "x1",
          "y": 9,
          "yref": "y1"
         },
         {
          "align": "left",
          "font": {
           "color": "#000000"
          },
          "showarrow": false,
          "text": "79",
          "x": 0.55,
          "xanchor": "left",
          "xref": "x1",
          "y": 9,
          "yref": "y1"
         },
         {
          "align": "left",
          "font": {
           "color": "#000000"
          },
          "showarrow": false,
          "text": "114",
          "x": 1.55,
          "xanchor": "left",
          "xref": "x1",
          "y": 9,
          "yref": "y1"
         },
         {
          "align": "left",
          "font": {
           "color": "#000000"
          },
          "showarrow": false,
          "text": "35",
          "x": 2.55,
          "xanchor": "left",
          "xref": "x1",
          "y": 9,
          "yref": "y1"
         },
         {
          "align": "left",
          "font": {
           "color": "#000000"
          },
          "showarrow": false,
          "text": "Columbia",
          "x": -0.45,
          "xanchor": "left",
          "xref": "x1",
          "y": 10,
          "yref": "y1"
         },
         {
          "align": "left",
          "font": {
           "color": "#000000"
          },
          "showarrow": false,
          "text": "86",
          "x": 0.55,
          "xanchor": "left",
          "xref": "x1",
          "y": 10,
          "yref": "y1"
         },
         {
          "align": "left",
          "font": {
           "color": "#000000"
          },
          "showarrow": false,
          "text": "119",
          "x": 1.55,
          "xanchor": "left",
          "xref": "x1",
          "y": 10,
          "yref": "y1"
         },
         {
          "align": "left",
          "font": {
           "color": "#000000"
          },
          "showarrow": false,
          "text": "33",
          "x": 2.55,
          "xanchor": "left",
          "xref": "x1",
          "y": 10,
          "yref": "y1"
         },
         {
          "align": "left",
          "font": {
           "color": "#000000"
          },
          "showarrow": false,
          "text": "Duke",
          "x": -0.45,
          "xanchor": "left",
          "xref": "x1",
          "y": 11,
          "yref": "y1"
         },
         {
          "align": "left",
          "font": {
           "color": "#000000"
          },
          "showarrow": false,
          "text": "93",
          "x": 0.55,
          "xanchor": "left",
          "xref": "x1",
          "y": 11,
          "yref": "y1"
         },
         {
          "align": "left",
          "font": {
           "color": "#000000"
          },
          "showarrow": false,
          "text": "124",
          "x": 1.55,
          "xanchor": "left",
          "xref": "x1",
          "y": 11,
          "yref": "y1"
         },
         {
          "align": "left",
          "font": {
           "color": "#000000"
          },
          "showarrow": false,
          "text": "31",
          "x": 2.55,
          "xanchor": "left",
          "xref": "x1",
          "y": 11,
          "yref": "y1"
         },
         {
          "align": "left",
          "font": {
           "color": "#000000"
          },
          "showarrow": false,
          "text": "Dartmouth",
          "x": -0.45,
          "xanchor": "left",
          "xref": "x1",
          "y": 12,
          "yref": "y1"
         },
         {
          "align": "left",
          "font": {
           "color": "#000000"
          },
          "showarrow": false,
          "text": "84",
          "x": 0.55,
          "xanchor": "left",
          "xref": "x1",
          "y": 12,
          "yref": "y1"
         },
         {
          "align": "left",
          "font": {
           "color": "#000000"
          },
          "showarrow": false,
          "text": "114",
          "x": 1.55,
          "xanchor": "left",
          "xref": "x1",
          "y": 12,
          "yref": "y1"
         },
         {
          "align": "left",
          "font": {
           "color": "#000000"
          },
          "showarrow": false,
          "text": "30",
          "x": 2.55,
          "xanchor": "left",
          "xref": "x1",
          "y": 12,
          "yref": "y1"
         },
         {
          "align": "left",
          "font": {
           "color": "#000000"
          },
          "showarrow": false,
          "text": "NYU",
          "x": -0.45,
          "xanchor": "left",
          "xref": "x1",
          "y": 13,
          "yref": "y1"
         },
         {
          "align": "left",
          "font": {
           "color": "#000000"
          },
          "showarrow": false,
          "text": "67",
          "x": 0.55,
          "xanchor": "left",
          "xref": "x1",
          "y": 13,
          "yref": "y1"
         },
         {
          "align": "left",
          "font": {
           "color": "#000000"
          },
          "showarrow": false,
          "text": "94",
          "x": 1.55,
          "xanchor": "left",
          "xref": "x1",
          "y": 13,
          "yref": "y1"
         },
         {
          "align": "left",
          "font": {
           "color": "#000000"
          },
          "showarrow": false,
          "text": "27",
          "x": 2.55,
          "xanchor": "left",
          "xref": "x1",
          "y": 13,
          "yref": "y1"
         },
         {
          "align": "left",
          "font": {
           "color": "#000000"
          },
          "showarrow": false,
          "text": "Notre Dame",
          "x": -0.45,
          "xanchor": "left",
          "xref": "x1",
          "y": 14,
          "yref": "y1"
         },
         {
          "align": "left",
          "font": {
           "color": "#000000"
          },
          "showarrow": false,
          "text": "73",
          "x": 0.55,
          "xanchor": "left",
          "xref": "x1",
          "y": 14,
          "yref": "y1"
         },
         {
          "align": "left",
          "font": {
           "color": "#000000"
          },
          "showarrow": false,
          "text": "100",
          "x": 1.55,
          "xanchor": "left",
          "xref": "x1",
          "y": 14,
          "yref": "y1"
         },
         {
          "align": "left",
          "font": {
           "color": "#000000"
          },
          "showarrow": false,
          "text": "27",
          "x": 2.55,
          "xanchor": "left",
          "xref": "x1",
          "y": 14,
          "yref": "y1"
         },
         {
          "align": "left",
          "font": {
           "color": "#000000"
          },
          "showarrow": false,
          "text": "Cornell",
          "x": -0.45,
          "xanchor": "left",
          "xref": "x1",
          "y": 15,
          "yref": "y1"
         },
         {
          "align": "left",
          "font": {
           "color": "#000000"
          },
          "showarrow": false,
          "text": "80",
          "x": 0.55,
          "xanchor": "left",
          "xref": "x1",
          "y": 15,
          "yref": "y1"
         },
         {
          "align": "left",
          "font": {
           "color": "#000000"
          },
          "showarrow": false,
          "text": "107",
          "x": 1.55,
          "xanchor": "left",
          "xref": "x1",
          "y": 15,
          "yref": "y1"
         },
         {
          "align": "left",
          "font": {
           "color": "#000000"
          },
          "showarrow": false,
          "text": "27",
          "x": 2.55,
          "xanchor": "left",
          "xref": "x1",
          "y": 15,
          "yref": "y1"
         },
         {
          "align": "left",
          "font": {
           "color": "#000000"
          },
          "showarrow": false,
          "text": "Michigan",
          "x": -0.45,
          "xanchor": "left",
          "xref": "x1",
          "y": 16,
          "yref": "y1"
         },
         {
          "align": "left",
          "font": {
           "color": "#000000"
          },
          "showarrow": false,
          "text": "62",
          "x": 0.55,
          "xanchor": "left",
          "xref": "x1",
          "y": 16,
          "yref": "y1"
         },
         {
          "align": "left",
          "font": {
           "color": "#000000"
          },
          "showarrow": false,
          "text": "84",
          "x": 1.55,
          "xanchor": "left",
          "xref": "x1",
          "y": 16,
          "yref": "y1"
         },
         {
          "align": "left",
          "font": {
           "color": "#000000"
          },
          "showarrow": false,
          "text": "22",
          "x": 2.55,
          "xanchor": "left",
          "xref": "x1",
          "y": 16,
          "yref": "y1"
         },
         {
          "align": "left",
          "font": {
           "color": "#000000"
          },
          "showarrow": false,
          "text": "Brown",
          "x": -0.45,
          "xanchor": "left",
          "xref": "x1",
          "y": 17,
          "yref": "y1"
         },
         {
          "align": "left",
          "font": {
           "color": "#000000"
          },
          "showarrow": false,
          "text": "72",
          "x": 0.55,
          "xanchor": "left",
          "xref": "x1",
          "y": 17,
          "yref": "y1"
         },
         {
          "align": "left",
          "font": {
           "color": "#000000"
          },
          "showarrow": false,
          "text": "92",
          "x": 1.55,
          "xanchor": "left",
          "xref": "x1",
          "y": 17,
          "yref": "y1"
         },
         {
          "align": "left",
          "font": {
           "color": "#000000"
          },
          "showarrow": false,
          "text": "20",
          "x": 2.55,
          "xanchor": "left",
          "xref": "x1",
          "y": 17,
          "yref": "y1"
         },
         {
          "align": "left",
          "font": {
           "color": "#000000"
          },
          "showarrow": false,
          "text": "Berkeley",
          "x": -0.45,
          "xanchor": "left",
          "xref": "x1",
          "y": 18,
          "yref": "y1"
         },
         {
          "align": "left",
          "font": {
           "color": "#000000"
          },
          "showarrow": false,
          "text": "71",
          "x": 0.55,
          "xanchor": "left",
          "xref": "x1",
          "y": 18,
          "yref": "y1"
         },
         {
          "align": "left",
          "font": {
           "color": "#000000"
          },
          "showarrow": false,
          "text": "88",
          "x": 1.55,
          "xanchor": "left",
          "xref": "x1",
          "y": 18,
          "yref": "y1"
         },
         {
          "align": "left",
          "font": {
           "color": "#000000"
          },
          "showarrow": false,
          "text": "17",
          "x": 2.55,
          "xanchor": "left",
          "xref": "x1",
          "y": 18,
          "yref": "y1"
         },
         {
          "align": "left",
          "font": {
           "color": "#000000"
          },
          "showarrow": false,
          "text": "Emory",
          "x": -0.45,
          "xanchor": "left",
          "xref": "x1",
          "y": 19,
          "yref": "y1"
         },
         {
          "align": "left",
          "font": {
           "color": "#000000"
          },
          "showarrow": false,
          "text": "68",
          "x": 0.55,
          "xanchor": "left",
          "xref": "x1",
          "y": 19,
          "yref": "y1"
         },
         {
          "align": "left",
          "font": {
           "color": "#000000"
          },
          "showarrow": false,
          "text": "82",
          "x": 1.55,
          "xanchor": "left",
          "xref": "x1",
          "y": 19,
          "yref": "y1"
         },
         {
          "align": "left",
          "font": {
           "color": "#000000"
          },
          "showarrow": false,
          "text": "14",
          "x": 2.55,
          "xanchor": "left",
          "xref": "x1",
          "y": 19,
          "yref": "y1"
         },
         {
          "align": "left",
          "font": {
           "color": "#000000"
          },
          "showarrow": false,
          "text": "UCLA",
          "x": -0.45,
          "xanchor": "left",
          "xref": "x1",
          "y": 20,
          "yref": "y1"
         },
         {
          "align": "left",
          "font": {
           "color": "#000000"
          },
          "showarrow": false,
          "text": "64",
          "x": 0.55,
          "xanchor": "left",
          "xref": "x1",
          "y": 20,
          "yref": "y1"
         },
         {
          "align": "left",
          "font": {
           "color": "#000000"
          },
          "showarrow": false,
          "text": "78",
          "x": 1.55,
          "xanchor": "left",
          "xref": "x1",
          "y": 20,
          "yref": "y1"
         },
         {
          "align": "left",
          "font": {
           "color": "#000000"
          },
          "showarrow": false,
          "text": "14",
          "x": 2.55,
          "xanchor": "left",
          "xref": "x1",
          "y": 20,
          "yref": "y1"
         },
         {
          "align": "left",
          "font": {
           "color": "#000000"
          },
          "showarrow": false,
          "text": "SoCal",
          "x": -0.45,
          "xanchor": "left",
          "xref": "x1",
          "y": 21,
          "yref": "y1"
         },
         {
          "align": "left",
          "font": {
           "color": "#000000"
          },
          "showarrow": false,
          "text": "72",
          "x": 0.55,
          "xanchor": "left",
          "xref": "x1",
          "y": 21,
          "yref": "y1"
         },
         {
          "align": "left",
          "font": {
           "color": "#000000"
          },
          "showarrow": false,
          "text": "81",
          "x": 1.55,
          "xanchor": "left",
          "xref": "x1",
          "y": 21,
          "yref": "y1"
         },
         {
          "align": "left",
          "font": {
           "color": "#000000"
          },
          "showarrow": false,
          "text": "9",
          "x": 2.55,
          "xanchor": "left",
          "xref": "x1",
          "y": 21,
          "yref": "y1"
         }
        ],
        "height": 710,
        "margin": {
         "b": 0,
         "l": 0,
         "r": 0,
         "t": 0
        },
        "xaxis": {
         "dtick": 1,
         "gridwidth": 2,
         "showticklabels": false,
         "tick0": -0.5,
         "ticks": "",
         "zeroline": false
        },
        "yaxis": {
         "autorange": "reversed",
         "dtick": 1,
         "gridwidth": 2,
         "showticklabels": false,
         "tick0": 0.5,
         "ticks": "",
         "zeroline": false
        }
       }
      },
      "text/html": [
       "<div id=\"2f5b7297-c960-41c3-8ab9-924873387e51\" style=\"height: 710px; width: 100%;\" class=\"plotly-graph-div\"></div><script type=\"text/javascript\">require([\"plotly\"], function(Plotly) { window.PLOTLYENV=window.PLOTLYENV || {};window.PLOTLYENV.BASE_URL=\"https://plot.ly\";Plotly.newPlot(\"2f5b7297-c960-41c3-8ab9-924873387e51\", [{\"type\": \"heatmap\", \"z\": [[0, 0, 0, 0], [0.5, 0.5, 0.5, 0.5], [1, 1, 1, 1], [0.5, 0.5, 0.5, 0.5], [1, 1, 1, 1], [0.5, 0.5, 0.5, 0.5], [1, 1, 1, 1], [0.5, 0.5, 0.5, 0.5], [1, 1, 1, 1], [0.5, 0.5, 0.5, 0.5], [1, 1, 1, 1], [0.5, 0.5, 0.5, 0.5], [1, 1, 1, 1], [0.5, 0.5, 0.5, 0.5], [1, 1, 1, 1], [0.5, 0.5, 0.5, 0.5], [1, 1, 1, 1], [0.5, 0.5, 0.5, 0.5], [1, 1, 1, 1], [0.5, 0.5, 0.5, 0.5], [1, 1, 1, 1], [0.5, 0.5, 0.5, 0.5]], \"opacity\": 0.75, \"colorscale\": [[0, \"#00083e\"], [0.5, \"#ededee\"], [1, \"#ffffff\"]], \"showscale\": false, \"hoverinfo\": \"none\"}], {\"annotations\": [{\"text\": \"<b>School</b>\", \"x\": -0.45, \"y\": 0, \"xref\": \"x1\", \"yref\": \"y1\", \"align\": \"left\", \"xanchor\": \"left\", \"font\": {\"color\": \"#ffffff\"}, \"showarrow\": false}, {\"text\": \"<b>Women</b>\", \"x\": 0.55, \"y\": 0, \"xref\": \"x1\", \"yref\": \"y1\", \"align\": \"left\", \"xanchor\": \"left\", \"font\": {\"color\": \"#ffffff\"}, \"showarrow\": false}, {\"text\": \"<b>Men</b>\", \"x\": 1.55, \"y\": 0, \"xref\": \"x1\", \"yref\": \"y1\", \"align\": \"left\", \"xanchor\": \"left\", \"font\": {\"color\": \"#ffffff\"}, \"showarrow\": false}, {\"text\": \"<b>gap</b>\", \"x\": 2.55, \"y\": 0, \"xref\": \"x1\", \"yref\": \"y1\", \"align\": \"left\", \"xanchor\": \"left\", \"font\": {\"color\": \"#ffffff\"}, \"showarrow\": false}, {\"text\": \"MIT\", \"x\": -0.45, \"y\": 1, \"xref\": \"x1\", \"yref\": \"y1\", \"align\": \"left\", \"xanchor\": \"left\", \"font\": {\"color\": \"#000000\"}, \"showarrow\": false}, {\"text\": \"94\", \"x\": 0.55, \"y\": 1, \"xref\": \"x1\", \"yref\": \"y1\", \"align\": \"left\", \"xanchor\": \"left\", \"font\": {\"color\": \"#000000\"}, \"showarrow\": false}, {\"text\": \"152\", \"x\": 1.55, \"y\": 1, \"xref\": \"x1\", \"yref\": \"y1\", \"align\": \"left\", \"xanchor\": \"left\", \"font\": {\"color\": \"#000000\"}, \"showarrow\": false}, {\"text\": \"58\", \"x\": 2.55, \"y\": 1, \"xref\": \"x1\", \"yref\": \"y1\", \"align\": \"left\", \"xanchor\": \"left\", \"font\": {\"color\": \"#000000\"}, \"showarrow\": false}, {\"text\": \"Stanford\", \"x\": -0.45, \"y\": 2, \"xref\": \"x1\", \"yref\": \"y1\", \"align\": \"left\", \"xanchor\": \"left\", \"font\": {\"color\": \"#000000\"}, \"showarrow\": false}, {\"text\": \"96\", \"x\": 0.55, \"y\": 2, \"xref\": \"x1\", \"yref\": \"y1\", \"align\": \"left\", \"xanchor\": \"left\", \"font\": {\"color\": \"#000000\"}, \"showarrow\": false}, {\"text\": \"151\", \"x\": 1.55, \"y\": 2, \"xref\": \"x1\", \"yref\": \"y1\", \"align\": \"left\", \"xanchor\": \"left\", \"font\": {\"color\": \"#000000\"}, \"showarrow\": false}, {\"text\": \"55\", \"x\": 2.55, \"y\": 2, \"xref\": \"x1\", \"yref\": \"y1\", \"align\": \"left\", \"xanchor\": \"left\", \"font\": {\"color\": \"#000000\"}, \"showarrow\": false}, {\"text\": \"Harvard\", \"x\": -0.45, \"y\": 3, \"xref\": \"x1\", \"yref\": \"y1\", \"align\": \"left\", \"xanchor\": \"left\", \"font\": {\"color\": \"#000000\"}, \"showarrow\": false}, {\"text\": \"112\", \"x\": 0.55, \"y\": 3, \"xref\": \"x1\", \"yref\": \"y1\", \"align\": \"left\", \"xanchor\": \"left\", \"font\": {\"color\": \"#000000\"}, \"showarrow\": false}, {\"text\": \"165\", \"x\": 1.55, \"y\": 3, \"xref\": \"x1\", \"yref\": \"y1\", \"align\": \"left\", \"xanchor\": \"left\", \"font\": {\"color\": \"#000000\"}, \"showarrow\": false}, {\"text\": \"53\", \"x\": 2.55, \"y\": 3, \"xref\": \"x1\", \"yref\": \"y1\", \"align\": \"left\", \"xanchor\": \"left\", \"font\": {\"color\": \"#000000\"}, \"showarrow\": false}, {\"text\": \"U.Penn\", \"x\": -0.45, \"y\": 4, \"xref\": \"x1\", \"yref\": \"y1\", \"align\": \"left\", \"xanchor\": \"left\", \"font\": {\"color\": \"#000000\"}, \"showarrow\": false}, {\"text\": \"92\", \"x\": 0.55, \"y\": 4, \"xref\": \"x1\", \"yref\": \"y1\", \"align\": \"left\", \"xanchor\": \"left\", \"font\": {\"color\": \"#000000\"}, \"showarrow\": false}, {\"text\": \"141\", \"x\": 1.55, \"y\": 4, \"xref\": \"x1\", \"yref\": \"y1\", \"align\": \"left\", \"xanchor\": \"left\", \"font\": {\"color\": \"#000000\"}, \"showarrow\": false}, {\"text\": \"49\", \"x\": 2.55, \"y\": 4, \"xref\": \"x1\", \"yref\": \"y1\", \"align\": \"left\", \"xanchor\": \"left\", \"font\": {\"color\": \"#000000\"}, \"showarrow\": false}, {\"text\": \"Princeton\", \"x\": -0.45, \"y\": 5, \"xref\": \"x1\", \"yref\": \"y1\", \"align\": \"left\", \"xanchor\": \"left\", \"font\": {\"color\": \"#000000\"}, \"showarrow\": false}, {\"text\": \"90\", \"x\": 0.55, \"y\": 5, \"xref\": \"x1\", \"yref\": \"y1\", \"align\": \"left\", \"xanchor\": \"left\", \"font\": {\"color\": \"#000000\"}, \"showarrow\": false}, {\"text\": \"137\", \"x\": 1.55, \"y\": 5, \"xref\": \"x1\", \"yref\": \"y1\", \"align\": \"left\", \"xanchor\": \"left\", \"font\": {\"color\": \"#000000\"}, \"showarrow\": false}, {\"text\": \"47\", \"x\": 2.55, \"y\": 5, \"xref\": \"x1\", \"yref\": \"y1\", \"align\": \"left\", \"xanchor\": \"left\", \"font\": {\"color\": \"#000000\"}, \"showarrow\": false}, {\"text\": \"Chicago\", \"x\": -0.45, \"y\": 6, \"xref\": \"x1\", \"yref\": \"y1\", \"align\": \"left\", \"xanchor\": \"left\", \"font\": {\"color\": \"#000000\"}, \"showarrow\": false}, {\"text\": \"78\", \"x\": 0.55, \"y\": 6, \"xref\": \"x1\", \"yref\": \"y1\", \"align\": \"left\", \"xanchor\": \"left\", \"font\": {\"color\": \"#000000\"}, \"showarrow\": false}, {\"text\": \"118\", \"x\": 1.55, \"y\": 6, \"xref\": \"x1\", \"yref\": \"y1\", \"align\": \"left\", \"xanchor\": \"left\", \"font\": {\"color\": \"#000000\"}, \"showarrow\": false}, {\"text\": \"40\", \"x\": 2.55, \"y\": 6, \"xref\": \"x1\", \"yref\": \"y1\", \"align\": \"left\", \"xanchor\": \"left\", \"font\": {\"color\": \"#000000\"}, \"showarrow\": false}, {\"text\": \"Georgetown\", \"x\": -0.45, \"y\": 7, \"xref\": \"x1\", \"yref\": \"y1\", \"align\": \"left\", \"xanchor\": \"left\", \"font\": {\"color\": \"#000000\"}, \"showarrow\": false}, {\"text\": \"94\", \"x\": 0.55, \"y\": 7, \"xref\": \"x1\", \"yref\": \"y1\", \"align\": \"left\", \"xanchor\": \"left\", \"font\": {\"color\": \"#000000\"}, \"showarrow\": false}, {\"text\": \"131\", \"x\": 1.55, \"y\": 7, \"xref\": \"x1\", \"yref\": \"y1\", \"align\": \"left\", \"xanchor\": \"left\", \"font\": {\"color\": \"#000000\"}, \"showarrow\": false}, {\"text\": \"37\", \"x\": 2.55, \"y\": 7, \"xref\": \"x1\", \"yref\": \"y1\", \"align\": \"left\", \"xanchor\": \"left\", \"font\": {\"color\": \"#000000\"}, \"showarrow\": false}, {\"text\": \"Tufts\", \"x\": -0.45, \"y\": 8, \"xref\": \"x1\", \"yref\": \"y1\", \"align\": \"left\", \"xanchor\": \"left\", \"font\": {\"color\": \"#000000\"}, \"showarrow\": false}, {\"text\": \"76\", \"x\": 0.55, \"y\": 8, \"xref\": \"x1\", \"yref\": \"y1\", \"align\": \"left\", \"xanchor\": \"left\", \"font\": {\"color\": \"#000000\"}, \"showarrow\": false}, {\"text\": \"112\", \"x\": 1.55, \"y\": 8, \"xref\": \"x1\", \"yref\": \"y1\", \"align\": \"left\", \"xanchor\": \"left\", \"font\": {\"color\": \"#000000\"}, \"showarrow\": false}, {\"text\": \"36\", \"x\": 2.55, \"y\": 8, \"xref\": \"x1\", \"yref\": \"y1\", \"align\": \"left\", \"xanchor\": \"left\", \"font\": {\"color\": \"#000000\"}, \"showarrow\": false}, {\"text\": \"Yale\", \"x\": -0.45, \"y\": 9, \"xref\": \"x1\", \"yref\": \"y1\", \"align\": \"left\", \"xanchor\": \"left\", \"font\": {\"color\": \"#000000\"}, \"showarrow\": false}, {\"text\": \"79\", \"x\": 0.55, \"y\": 9, \"xref\": \"x1\", \"yref\": \"y1\", \"align\": \"left\", \"xanchor\": \"left\", \"font\": {\"color\": \"#000000\"}, \"showarrow\": false}, {\"text\": \"114\", \"x\": 1.55, \"y\": 9, \"xref\": \"x1\", \"yref\": \"y1\", \"align\": \"left\", \"xanchor\": \"left\", \"font\": {\"color\": \"#000000\"}, \"showarrow\": false}, {\"text\": \"35\", \"x\": 2.55, \"y\": 9, \"xref\": \"x1\", \"yref\": \"y1\", \"align\": \"left\", \"xanchor\": \"left\", \"font\": {\"color\": \"#000000\"}, \"showarrow\": false}, {\"text\": \"Columbia\", \"x\": -0.45, \"y\": 10, \"xref\": \"x1\", \"yref\": \"y1\", \"align\": \"left\", \"xanchor\": \"left\", \"font\": {\"color\": \"#000000\"}, \"showarrow\": false}, {\"text\": \"86\", \"x\": 0.55, \"y\": 10, \"xref\": \"x1\", \"yref\": \"y1\", \"align\": \"left\", \"xanchor\": \"left\", \"font\": {\"color\": \"#000000\"}, \"showarrow\": false}, {\"text\": \"119\", \"x\": 1.55, \"y\": 10, \"xref\": \"x1\", \"yref\": \"y1\", \"align\": \"left\", \"xanchor\": \"left\", \"font\": {\"color\": \"#000000\"}, \"showarrow\": false}, {\"text\": \"33\", \"x\": 2.55, \"y\": 10, \"xref\": \"x1\", \"yref\": \"y1\", \"align\": \"left\", \"xanchor\": \"left\", \"font\": {\"color\": \"#000000\"}, \"showarrow\": false}, {\"text\": \"Duke\", \"x\": -0.45, \"y\": 11, \"xref\": \"x1\", \"yref\": \"y1\", \"align\": \"left\", \"xanchor\": \"left\", \"font\": {\"color\": \"#000000\"}, \"showarrow\": false}, {\"text\": \"93\", \"x\": 0.55, \"y\": 11, \"xref\": \"x1\", \"yref\": \"y1\", \"align\": \"left\", \"xanchor\": \"left\", \"font\": {\"color\": \"#000000\"}, \"showarrow\": false}, {\"text\": \"124\", \"x\": 1.55, \"y\": 11, \"xref\": \"x1\", \"yref\": \"y1\", \"align\": \"left\", \"xanchor\": \"left\", \"font\": {\"color\": \"#000000\"}, \"showarrow\": false}, {\"text\": \"31\", \"x\": 2.55, \"y\": 11, \"xref\": \"x1\", \"yref\": \"y1\", \"align\": \"left\", \"xanchor\": \"left\", \"font\": {\"color\": \"#000000\"}, \"showarrow\": false}, {\"text\": \"Dartmouth\", \"x\": -0.45, \"y\": 12, \"xref\": \"x1\", \"yref\": \"y1\", \"align\": \"left\", \"xanchor\": \"left\", \"font\": {\"color\": \"#000000\"}, \"showarrow\": false}, {\"text\": \"84\", \"x\": 0.55, \"y\": 12, \"xref\": \"x1\", \"yref\": \"y1\", \"align\": \"left\", \"xanchor\": \"left\", \"font\": {\"color\": \"#000000\"}, \"showarrow\": false}, {\"text\": \"114\", \"x\": 1.55, \"y\": 12, \"xref\": \"x1\", \"yref\": \"y1\", \"align\": \"left\", \"xanchor\": \"left\", \"font\": {\"color\": \"#000000\"}, \"showarrow\": false}, {\"text\": \"30\", \"x\": 2.55, \"y\": 12, \"xref\": \"x1\", \"yref\": \"y1\", \"align\": \"left\", \"xanchor\": \"left\", \"font\": {\"color\": \"#000000\"}, \"showarrow\": false}, {\"text\": \"NYU\", \"x\": -0.45, \"y\": 13, \"xref\": \"x1\", \"yref\": \"y1\", \"align\": \"left\", \"xanchor\": \"left\", \"font\": {\"color\": \"#000000\"}, \"showarrow\": false}, {\"text\": \"67\", \"x\": 0.55, \"y\": 13, \"xref\": \"x1\", \"yref\": \"y1\", \"align\": \"left\", \"xanchor\": \"left\", \"font\": {\"color\": \"#000000\"}, \"showarrow\": false}, {\"text\": \"94\", \"x\": 1.55, \"y\": 13, \"xref\": \"x1\", \"yref\": \"y1\", \"align\": \"left\", \"xanchor\": \"left\", \"font\": {\"color\": \"#000000\"}, \"showarrow\": false}, {\"text\": \"27\", \"x\": 2.55, \"y\": 13, \"xref\": \"x1\", \"yref\": \"y1\", \"align\": \"left\", \"xanchor\": \"left\", \"font\": {\"color\": \"#000000\"}, \"showarrow\": false}, {\"text\": \"Notre Dame\", \"x\": -0.45, \"y\": 14, \"xref\": \"x1\", \"yref\": \"y1\", \"align\": \"left\", \"xanchor\": \"left\", \"font\": {\"color\": \"#000000\"}, \"showarrow\": false}, {\"text\": \"73\", \"x\": 0.55, \"y\": 14, \"xref\": \"x1\", \"yref\": \"y1\", \"align\": \"left\", \"xanchor\": \"left\", \"font\": {\"color\": \"#000000\"}, \"showarrow\": false}, {\"text\": \"100\", \"x\": 1.55, \"y\": 14, \"xref\": \"x1\", \"yref\": \"y1\", \"align\": \"left\", \"xanchor\": \"left\", \"font\": {\"color\": \"#000000\"}, \"showarrow\": false}, {\"text\": \"27\", \"x\": 2.55, \"y\": 14, \"xref\": \"x1\", \"yref\": \"y1\", \"align\": \"left\", \"xanchor\": \"left\", \"font\": {\"color\": \"#000000\"}, \"showarrow\": false}, {\"text\": \"Cornell\", \"x\": -0.45, \"y\": 15, \"xref\": \"x1\", \"yref\": \"y1\", \"align\": \"left\", \"xanchor\": \"left\", \"font\": {\"color\": \"#000000\"}, \"showarrow\": false}, {\"text\": \"80\", \"x\": 0.55, \"y\": 15, \"xref\": \"x1\", \"yref\": \"y1\", \"align\": \"left\", \"xanchor\": \"left\", \"font\": {\"color\": \"#000000\"}, \"showarrow\": false}, {\"text\": \"107\", \"x\": 1.55, \"y\": 15, \"xref\": \"x1\", \"yref\": \"y1\", \"align\": \"left\", \"xanchor\": \"left\", \"font\": {\"color\": \"#000000\"}, \"showarrow\": false}, {\"text\": \"27\", \"x\": 2.55, \"y\": 15, \"xref\": \"x1\", \"yref\": \"y1\", \"align\": \"left\", \"xanchor\": \"left\", \"font\": {\"color\": \"#000000\"}, \"showarrow\": false}, {\"text\": \"Michigan\", \"x\": -0.45, \"y\": 16, \"xref\": \"x1\", \"yref\": \"y1\", \"align\": \"left\", \"xanchor\": \"left\", \"font\": {\"color\": \"#000000\"}, \"showarrow\": false}, {\"text\": \"62\", \"x\": 0.55, \"y\": 16, \"xref\": \"x1\", \"yref\": \"y1\", \"align\": \"left\", \"xanchor\": \"left\", \"font\": {\"color\": \"#000000\"}, \"showarrow\": false}, {\"text\": \"84\", \"x\": 1.55, \"y\": 16, \"xref\": \"x1\", \"yref\": \"y1\", \"align\": \"left\", \"xanchor\": \"left\", \"font\": {\"color\": \"#000000\"}, \"showarrow\": false}, {\"text\": \"22\", \"x\": 2.55, \"y\": 16, \"xref\": \"x1\", \"yref\": \"y1\", \"align\": \"left\", \"xanchor\": \"left\", \"font\": {\"color\": \"#000000\"}, \"showarrow\": false}, {\"text\": \"Brown\", \"x\": -0.45, \"y\": 17, \"xref\": \"x1\", \"yref\": \"y1\", \"align\": \"left\", \"xanchor\": \"left\", \"font\": {\"color\": \"#000000\"}, \"showarrow\": false}, {\"text\": \"72\", \"x\": 0.55, \"y\": 17, \"xref\": \"x1\", \"yref\": \"y1\", \"align\": \"left\", \"xanchor\": \"left\", \"font\": {\"color\": \"#000000\"}, \"showarrow\": false}, {\"text\": \"92\", \"x\": 1.55, \"y\": 17, \"xref\": \"x1\", \"yref\": \"y1\", \"align\": \"left\", \"xanchor\": \"left\", \"font\": {\"color\": \"#000000\"}, \"showarrow\": false}, {\"text\": \"20\", \"x\": 2.55, \"y\": 17, \"xref\": \"x1\", \"yref\": \"y1\", \"align\": \"left\", \"xanchor\": \"left\", \"font\": {\"color\": \"#000000\"}, \"showarrow\": false}, {\"text\": \"Berkeley\", \"x\": -0.45, \"y\": 18, \"xref\": \"x1\", \"yref\": \"y1\", \"align\": \"left\", \"xanchor\": \"left\", \"font\": {\"color\": \"#000000\"}, \"showarrow\": false}, {\"text\": \"71\", \"x\": 0.55, \"y\": 18, \"xref\": \"x1\", \"yref\": \"y1\", \"align\": \"left\", \"xanchor\": \"left\", \"font\": {\"color\": \"#000000\"}, \"showarrow\": false}, {\"text\": \"88\", \"x\": 1.55, \"y\": 18, \"xref\": \"x1\", \"yref\": \"y1\", \"align\": \"left\", \"xanchor\": \"left\", \"font\": {\"color\": \"#000000\"}, \"showarrow\": false}, {\"text\": \"17\", \"x\": 2.55, \"y\": 18, \"xref\": \"x1\", \"yref\": \"y1\", \"align\": \"left\", \"xanchor\": \"left\", \"font\": {\"color\": \"#000000\"}, \"showarrow\": false}, {\"text\": \"Emory\", \"x\": -0.45, \"y\": 19, \"xref\": \"x1\", \"yref\": \"y1\", \"align\": \"left\", \"xanchor\": \"left\", \"font\": {\"color\": \"#000000\"}, \"showarrow\": false}, {\"text\": \"68\", \"x\": 0.55, \"y\": 19, \"xref\": \"x1\", \"yref\": \"y1\", \"align\": \"left\", \"xanchor\": \"left\", \"font\": {\"color\": \"#000000\"}, \"showarrow\": false}, {\"text\": \"82\", \"x\": 1.55, \"y\": 19, \"xref\": \"x1\", \"yref\": \"y1\", \"align\": \"left\", \"xanchor\": \"left\", \"font\": {\"color\": \"#000000\"}, \"showarrow\": false}, {\"text\": \"14\", \"x\": 2.55, \"y\": 19, \"xref\": \"x1\", \"yref\": \"y1\", \"align\": \"left\", \"xanchor\": \"left\", \"font\": {\"color\": \"#000000\"}, \"showarrow\": false}, {\"text\": \"UCLA\", \"x\": -0.45, \"y\": 20, \"xref\": \"x1\", \"yref\": \"y1\", \"align\": \"left\", \"xanchor\": \"left\", \"font\": {\"color\": \"#000000\"}, \"showarrow\": false}, {\"text\": \"64\", \"x\": 0.55, \"y\": 20, \"xref\": \"x1\", \"yref\": \"y1\", \"align\": \"left\", \"xanchor\": \"left\", \"font\": {\"color\": \"#000000\"}, \"showarrow\": false}, {\"text\": \"78\", \"x\": 1.55, \"y\": 20, \"xref\": \"x1\", \"yref\": \"y1\", \"align\": \"left\", \"xanchor\": \"left\", \"font\": {\"color\": \"#000000\"}, \"showarrow\": false}, {\"text\": \"14\", \"x\": 2.55, \"y\": 20, \"xref\": \"x1\", \"yref\": \"y1\", \"align\": \"left\", \"xanchor\": \"left\", \"font\": {\"color\": \"#000000\"}, \"showarrow\": false}, {\"text\": \"SoCal\", \"x\": -0.45, \"y\": 21, \"xref\": \"x1\", \"yref\": \"y1\", \"align\": \"left\", \"xanchor\": \"left\", \"font\": {\"color\": \"#000000\"}, \"showarrow\": false}, {\"text\": \"72\", \"x\": 0.55, \"y\": 21, \"xref\": \"x1\", \"yref\": \"y1\", \"align\": \"left\", \"xanchor\": \"left\", \"font\": {\"color\": \"#000000\"}, \"showarrow\": false}, {\"text\": \"81\", \"x\": 1.55, \"y\": 21, \"xref\": \"x1\", \"yref\": \"y1\", \"align\": \"left\", \"xanchor\": \"left\", \"font\": {\"color\": \"#000000\"}, \"showarrow\": false}, {\"text\": \"9\", \"x\": 2.55, \"y\": 21, \"xref\": \"x1\", \"yref\": \"y1\", \"align\": \"left\", \"xanchor\": \"left\", \"font\": {\"color\": \"#000000\"}, \"showarrow\": false}], \"height\": 710, \"margin\": {\"t\": 0, \"b\": 0, \"r\": 0, \"l\": 0}, \"yaxis\": {\"autorange\": \"reversed\", \"zeroline\": false, \"gridwidth\": 2, \"ticks\": \"\", \"dtick\": 1, \"tick0\": 0.5, \"showticklabels\": false}, \"xaxis\": {\"zeroline\": false, \"gridwidth\": 2, \"ticks\": \"\", \"dtick\": 1, \"tick0\": -0.5, \"showticklabels\": false}}, {\"showLink\": true, \"linkText\": \"Export to plot.ly\"})});</script>"
      ],
      "text/vnd.plotly.v1+html": [
       "<div id=\"2f5b7297-c960-41c3-8ab9-924873387e51\" style=\"height: 710px; width: 100%;\" class=\"plotly-graph-div\"></div><script type=\"text/javascript\">require([\"plotly\"], function(Plotly) { window.PLOTLYENV=window.PLOTLYENV || {};window.PLOTLYENV.BASE_URL=\"https://plot.ly\";Plotly.newPlot(\"2f5b7297-c960-41c3-8ab9-924873387e51\", [{\"type\": \"heatmap\", \"z\": [[0, 0, 0, 0], [0.5, 0.5, 0.5, 0.5], [1, 1, 1, 1], [0.5, 0.5, 0.5, 0.5], [1, 1, 1, 1], [0.5, 0.5, 0.5, 0.5], [1, 1, 1, 1], [0.5, 0.5, 0.5, 0.5], [1, 1, 1, 1], [0.5, 0.5, 0.5, 0.5], [1, 1, 1, 1], [0.5, 0.5, 0.5, 0.5], [1, 1, 1, 1], [0.5, 0.5, 0.5, 0.5], [1, 1, 1, 1], [0.5, 0.5, 0.5, 0.5], [1, 1, 1, 1], [0.5, 0.5, 0.5, 0.5], [1, 1, 1, 1], [0.5, 0.5, 0.5, 0.5], [1, 1, 1, 1], [0.5, 0.5, 0.5, 0.5]], \"opacity\": 0.75, \"colorscale\": [[0, \"#00083e\"], [0.5, \"#ededee\"], [1, \"#ffffff\"]], \"showscale\": false, \"hoverinfo\": \"none\"}], {\"annotations\": [{\"text\": \"<b>School</b>\", \"x\": -0.45, \"y\": 0, \"xref\": \"x1\", \"yref\": \"y1\", \"align\": \"left\", \"xanchor\": \"left\", \"font\": {\"color\": \"#ffffff\"}, \"showarrow\": false}, {\"text\": \"<b>Women</b>\", \"x\": 0.55, \"y\": 0, \"xref\": \"x1\", \"yref\": \"y1\", \"align\": \"left\", \"xanchor\": \"left\", \"font\": {\"color\": \"#ffffff\"}, \"showarrow\": false}, {\"text\": \"<b>Men</b>\", \"x\": 1.55, \"y\": 0, \"xref\": \"x1\", \"yref\": \"y1\", \"align\": \"left\", \"xanchor\": \"left\", \"font\": {\"color\": \"#ffffff\"}, \"showarrow\": false}, {\"text\": \"<b>gap</b>\", \"x\": 2.55, \"y\": 0, \"xref\": \"x1\", \"yref\": \"y1\", \"align\": \"left\", \"xanchor\": \"left\", \"font\": {\"color\": \"#ffffff\"}, \"showarrow\": false}, {\"text\": \"MIT\", \"x\": -0.45, \"y\": 1, \"xref\": \"x1\", \"yref\": \"y1\", \"align\": \"left\", \"xanchor\": \"left\", \"font\": {\"color\": \"#000000\"}, \"showarrow\": false}, {\"text\": \"94\", \"x\": 0.55, \"y\": 1, \"xref\": \"x1\", \"yref\": \"y1\", \"align\": \"left\", \"xanchor\": \"left\", \"font\": {\"color\": \"#000000\"}, \"showarrow\": false}, {\"text\": \"152\", \"x\": 1.55, \"y\": 1, \"xref\": \"x1\", \"yref\": \"y1\", \"align\": \"left\", \"xanchor\": \"left\", \"font\": {\"color\": \"#000000\"}, \"showarrow\": false}, {\"text\": \"58\", \"x\": 2.55, \"y\": 1, \"xref\": \"x1\", \"yref\": \"y1\", \"align\": \"left\", \"xanchor\": \"left\", \"font\": {\"color\": \"#000000\"}, \"showarrow\": false}, {\"text\": \"Stanford\", \"x\": -0.45, \"y\": 2, \"xref\": \"x1\", \"yref\": \"y1\", \"align\": \"left\", \"xanchor\": \"left\", \"font\": {\"color\": \"#000000\"}, \"showarrow\": false}, {\"text\": \"96\", \"x\": 0.55, \"y\": 2, \"xref\": \"x1\", \"yref\": \"y1\", \"align\": \"left\", \"xanchor\": \"left\", \"font\": {\"color\": \"#000000\"}, \"showarrow\": false}, {\"text\": \"151\", \"x\": 1.55, \"y\": 2, \"xref\": \"x1\", \"yref\": \"y1\", \"align\": \"left\", \"xanchor\": \"left\", \"font\": {\"color\": \"#000000\"}, \"showarrow\": false}, {\"text\": \"55\", \"x\": 2.55, \"y\": 2, \"xref\": \"x1\", \"yref\": \"y1\", \"align\": \"left\", \"xanchor\": \"left\", \"font\": {\"color\": \"#000000\"}, \"showarrow\": false}, {\"text\": \"Harvard\", \"x\": -0.45, \"y\": 3, \"xref\": \"x1\", \"yref\": \"y1\", \"align\": \"left\", \"xanchor\": \"left\", \"font\": {\"color\": \"#000000\"}, \"showarrow\": false}, {\"text\": \"112\", \"x\": 0.55, \"y\": 3, \"xref\": \"x1\", \"yref\": \"y1\", \"align\": \"left\", \"xanchor\": \"left\", \"font\": {\"color\": \"#000000\"}, \"showarrow\": false}, {\"text\": \"165\", \"x\": 1.55, \"y\": 3, \"xref\": \"x1\", \"yref\": \"y1\", \"align\": \"left\", \"xanchor\": \"left\", \"font\": {\"color\": \"#000000\"}, \"showarrow\": false}, {\"text\": \"53\", \"x\": 2.55, \"y\": 3, \"xref\": \"x1\", \"yref\": \"y1\", \"align\": \"left\", \"xanchor\": \"left\", \"font\": {\"color\": \"#000000\"}, \"showarrow\": false}, {\"text\": \"U.Penn\", \"x\": -0.45, \"y\": 4, \"xref\": \"x1\", \"yref\": \"y1\", \"align\": \"left\", \"xanchor\": \"left\", \"font\": {\"color\": \"#000000\"}, \"showarrow\": false}, {\"text\": \"92\", \"x\": 0.55, \"y\": 4, \"xref\": \"x1\", \"yref\": \"y1\", \"align\": \"left\", \"xanchor\": \"left\", \"font\": {\"color\": \"#000000\"}, \"showarrow\": false}, {\"text\": \"141\", \"x\": 1.55, \"y\": 4, \"xref\": \"x1\", \"yref\": \"y1\", \"align\": \"left\", \"xanchor\": \"left\", \"font\": {\"color\": \"#000000\"}, \"showarrow\": false}, {\"text\": \"49\", \"x\": 2.55, \"y\": 4, \"xref\": \"x1\", \"yref\": \"y1\", \"align\": \"left\", \"xanchor\": \"left\", \"font\": {\"color\": \"#000000\"}, \"showarrow\": false}, {\"text\": \"Princeton\", \"x\": -0.45, \"y\": 5, \"xref\": \"x1\", \"yref\": \"y1\", \"align\": \"left\", \"xanchor\": \"left\", \"font\": {\"color\": \"#000000\"}, \"showarrow\": false}, {\"text\": \"90\", \"x\": 0.55, \"y\": 5, \"xref\": \"x1\", \"yref\": \"y1\", \"align\": \"left\", \"xanchor\": \"left\", \"font\": {\"color\": \"#000000\"}, \"showarrow\": false}, {\"text\": \"137\", \"x\": 1.55, \"y\": 5, \"xref\": \"x1\", \"yref\": \"y1\", \"align\": \"left\", \"xanchor\": \"left\", \"font\": {\"color\": \"#000000\"}, \"showarrow\": false}, {\"text\": \"47\", \"x\": 2.55, \"y\": 5, \"xref\": \"x1\", \"yref\": \"y1\", \"align\": \"left\", \"xanchor\": \"left\", \"font\": {\"color\": \"#000000\"}, \"showarrow\": false}, {\"text\": \"Chicago\", \"x\": -0.45, \"y\": 6, \"xref\": \"x1\", \"yref\": \"y1\", \"align\": \"left\", \"xanchor\": \"left\", \"font\": {\"color\": \"#000000\"}, \"showarrow\": false}, {\"text\": \"78\", \"x\": 0.55, \"y\": 6, \"xref\": \"x1\", \"yref\": \"y1\", \"align\": \"left\", \"xanchor\": \"left\", \"font\": {\"color\": \"#000000\"}, \"showarrow\": false}, {\"text\": \"118\", \"x\": 1.55, \"y\": 6, \"xref\": \"x1\", \"yref\": \"y1\", \"align\": \"left\", \"xanchor\": \"left\", \"font\": {\"color\": \"#000000\"}, \"showarrow\": false}, {\"text\": \"40\", \"x\": 2.55, \"y\": 6, \"xref\": \"x1\", \"yref\": \"y1\", \"align\": \"left\", \"xanchor\": \"left\", \"font\": {\"color\": \"#000000\"}, \"showarrow\": false}, {\"text\": \"Georgetown\", \"x\": -0.45, \"y\": 7, \"xref\": \"x1\", \"yref\": \"y1\", \"align\": \"left\", \"xanchor\": \"left\", \"font\": {\"color\": \"#000000\"}, \"showarrow\": false}, {\"text\": \"94\", \"x\": 0.55, \"y\": 7, \"xref\": \"x1\", \"yref\": \"y1\", \"align\": \"left\", \"xanchor\": \"left\", \"font\": {\"color\": \"#000000\"}, \"showarrow\": false}, {\"text\": \"131\", \"x\": 1.55, \"y\": 7, \"xref\": \"x1\", \"yref\": \"y1\", \"align\": \"left\", \"xanchor\": \"left\", \"font\": {\"color\": \"#000000\"}, \"showarrow\": false}, {\"text\": \"37\", \"x\": 2.55, \"y\": 7, \"xref\": \"x1\", \"yref\": \"y1\", \"align\": \"left\", \"xanchor\": \"left\", \"font\": {\"color\": \"#000000\"}, \"showarrow\": false}, {\"text\": \"Tufts\", \"x\": -0.45, \"y\": 8, \"xref\": \"x1\", \"yref\": \"y1\", \"align\": \"left\", \"xanchor\": \"left\", \"font\": {\"color\": \"#000000\"}, \"showarrow\": false}, {\"text\": \"76\", \"x\": 0.55, \"y\": 8, \"xref\": \"x1\", \"yref\": \"y1\", \"align\": \"left\", \"xanchor\": \"left\", \"font\": {\"color\": \"#000000\"}, \"showarrow\": false}, {\"text\": \"112\", \"x\": 1.55, \"y\": 8, \"xref\": \"x1\", \"yref\": \"y1\", \"align\": \"left\", \"xanchor\": \"left\", \"font\": {\"color\": \"#000000\"}, \"showarrow\": false}, {\"text\": \"36\", \"x\": 2.55, \"y\": 8, \"xref\": \"x1\", \"yref\": \"y1\", \"align\": \"left\", \"xanchor\": \"left\", \"font\": {\"color\": \"#000000\"}, \"showarrow\": false}, {\"text\": \"Yale\", \"x\": -0.45, \"y\": 9, \"xref\": \"x1\", \"yref\": \"y1\", \"align\": \"left\", \"xanchor\": \"left\", \"font\": {\"color\": \"#000000\"}, \"showarrow\": false}, {\"text\": \"79\", \"x\": 0.55, \"y\": 9, \"xref\": \"x1\", \"yref\": \"y1\", \"align\": \"left\", \"xanchor\": \"left\", \"font\": {\"color\": \"#000000\"}, \"showarrow\": false}, {\"text\": \"114\", \"x\": 1.55, \"y\": 9, \"xref\": \"x1\", \"yref\": \"y1\", \"align\": \"left\", \"xanchor\": \"left\", \"font\": {\"color\": \"#000000\"}, \"showarrow\": false}, {\"text\": \"35\", \"x\": 2.55, \"y\": 9, \"xref\": \"x1\", \"yref\": \"y1\", \"align\": \"left\", \"xanchor\": \"left\", \"font\": {\"color\": \"#000000\"}, \"showarrow\": false}, {\"text\": \"Columbia\", \"x\": -0.45, \"y\": 10, \"xref\": \"x1\", \"yref\": \"y1\", \"align\": \"left\", \"xanchor\": \"left\", \"font\": {\"color\": \"#000000\"}, \"showarrow\": false}, {\"text\": \"86\", \"x\": 0.55, \"y\": 10, \"xref\": \"x1\", \"yref\": \"y1\", \"align\": \"left\", \"xanchor\": \"left\", \"font\": {\"color\": \"#000000\"}, \"showarrow\": false}, {\"text\": \"119\", \"x\": 1.55, \"y\": 10, \"xref\": \"x1\", \"yref\": \"y1\", \"align\": \"left\", \"xanchor\": \"left\", \"font\": {\"color\": \"#000000\"}, \"showarrow\": false}, {\"text\": \"33\", \"x\": 2.55, \"y\": 10, \"xref\": \"x1\", \"yref\": \"y1\", \"align\": \"left\", \"xanchor\": \"left\", \"font\": {\"color\": \"#000000\"}, \"showarrow\": false}, {\"text\": \"Duke\", \"x\": -0.45, \"y\": 11, \"xref\": \"x1\", \"yref\": \"y1\", \"align\": \"left\", \"xanchor\": \"left\", \"font\": {\"color\": \"#000000\"}, \"showarrow\": false}, {\"text\": \"93\", \"x\": 0.55, \"y\": 11, \"xref\": \"x1\", \"yref\": \"y1\", \"align\": \"left\", \"xanchor\": \"left\", \"font\": {\"color\": \"#000000\"}, \"showarrow\": false}, {\"text\": \"124\", \"x\": 1.55, \"y\": 11, \"xref\": \"x1\", \"yref\": \"y1\", \"align\": \"left\", \"xanchor\": \"left\", \"font\": {\"color\": \"#000000\"}, \"showarrow\": false}, {\"text\": \"31\", \"x\": 2.55, \"y\": 11, \"xref\": \"x1\", \"yref\": \"y1\", \"align\": \"left\", \"xanchor\": \"left\", \"font\": {\"color\": \"#000000\"}, \"showarrow\": false}, {\"text\": \"Dartmouth\", \"x\": -0.45, \"y\": 12, \"xref\": \"x1\", \"yref\": \"y1\", \"align\": \"left\", \"xanchor\": \"left\", \"font\": {\"color\": \"#000000\"}, \"showarrow\": false}, {\"text\": \"84\", \"x\": 0.55, \"y\": 12, \"xref\": \"x1\", \"yref\": \"y1\", \"align\": \"left\", \"xanchor\": \"left\", \"font\": {\"color\": \"#000000\"}, \"showarrow\": false}, {\"text\": \"114\", \"x\": 1.55, \"y\": 12, \"xref\": \"x1\", \"yref\": \"y1\", \"align\": \"left\", \"xanchor\": \"left\", \"font\": {\"color\": \"#000000\"}, \"showarrow\": false}, {\"text\": \"30\", \"x\": 2.55, \"y\": 12, \"xref\": \"x1\", \"yref\": \"y1\", \"align\": \"left\", \"xanchor\": \"left\", \"font\": {\"color\": \"#000000\"}, \"showarrow\": false}, {\"text\": \"NYU\", \"x\": -0.45, \"y\": 13, \"xref\": \"x1\", \"yref\": \"y1\", \"align\": \"left\", \"xanchor\": \"left\", \"font\": {\"color\": \"#000000\"}, \"showarrow\": false}, {\"text\": \"67\", \"x\": 0.55, \"y\": 13, \"xref\": \"x1\", \"yref\": \"y1\", \"align\": \"left\", \"xanchor\": \"left\", \"font\": {\"color\": \"#000000\"}, \"showarrow\": false}, {\"text\": \"94\", \"x\": 1.55, \"y\": 13, \"xref\": \"x1\", \"yref\": \"y1\", \"align\": \"left\", \"xanchor\": \"left\", \"font\": {\"color\": \"#000000\"}, \"showarrow\": false}, {\"text\": \"27\", \"x\": 2.55, \"y\": 13, \"xref\": \"x1\", \"yref\": \"y1\", \"align\": \"left\", \"xanchor\": \"left\", \"font\": {\"color\": \"#000000\"}, \"showarrow\": false}, {\"text\": \"Notre Dame\", \"x\": -0.45, \"y\": 14, \"xref\": \"x1\", \"yref\": \"y1\", \"align\": \"left\", \"xanchor\": \"left\", \"font\": {\"color\": \"#000000\"}, \"showarrow\": false}, {\"text\": \"73\", \"x\": 0.55, \"y\": 14, \"xref\": \"x1\", \"yref\": \"y1\", \"align\": \"left\", \"xanchor\": \"left\", \"font\": {\"color\": \"#000000\"}, \"showarrow\": false}, {\"text\": \"100\", \"x\": 1.55, \"y\": 14, \"xref\": \"x1\", \"yref\": \"y1\", \"align\": \"left\", \"xanchor\": \"left\", \"font\": {\"color\": \"#000000\"}, \"showarrow\": false}, {\"text\": \"27\", \"x\": 2.55, \"y\": 14, \"xref\": \"x1\", \"yref\": \"y1\", \"align\": \"left\", \"xanchor\": \"left\", \"font\": {\"color\": \"#000000\"}, \"showarrow\": false}, {\"text\": \"Cornell\", \"x\": -0.45, \"y\": 15, \"xref\": \"x1\", \"yref\": \"y1\", \"align\": \"left\", \"xanchor\": \"left\", \"font\": {\"color\": \"#000000\"}, \"showarrow\": false}, {\"text\": \"80\", \"x\": 0.55, \"y\": 15, \"xref\": \"x1\", \"yref\": \"y1\", \"align\": \"left\", \"xanchor\": \"left\", \"font\": {\"color\": \"#000000\"}, \"showarrow\": false}, {\"text\": \"107\", \"x\": 1.55, \"y\": 15, \"xref\": \"x1\", \"yref\": \"y1\", \"align\": \"left\", \"xanchor\": \"left\", \"font\": {\"color\": \"#000000\"}, \"showarrow\": false}, {\"text\": \"27\", \"x\": 2.55, \"y\": 15, \"xref\": \"x1\", \"yref\": \"y1\", \"align\": \"left\", \"xanchor\": \"left\", \"font\": {\"color\": \"#000000\"}, \"showarrow\": false}, {\"text\": \"Michigan\", \"x\": -0.45, \"y\": 16, \"xref\": \"x1\", \"yref\": \"y1\", \"align\": \"left\", \"xanchor\": \"left\", \"font\": {\"color\": \"#000000\"}, \"showarrow\": false}, {\"text\": \"62\", \"x\": 0.55, \"y\": 16, \"xref\": \"x1\", \"yref\": \"y1\", \"align\": \"left\", \"xanchor\": \"left\", \"font\": {\"color\": \"#000000\"}, \"showarrow\": false}, {\"text\": \"84\", \"x\": 1.55, \"y\": 16, \"xref\": \"x1\", \"yref\": \"y1\", \"align\": \"left\", \"xanchor\": \"left\", \"font\": {\"color\": \"#000000\"}, \"showarrow\": false}, {\"text\": \"22\", \"x\": 2.55, \"y\": 16, \"xref\": \"x1\", \"yref\": \"y1\", \"align\": \"left\", \"xanchor\": \"left\", \"font\": {\"color\": \"#000000\"}, \"showarrow\": false}, {\"text\": \"Brown\", \"x\": -0.45, \"y\": 17, \"xref\": \"x1\", \"yref\": \"y1\", \"align\": \"left\", \"xanchor\": \"left\", \"font\": {\"color\": \"#000000\"}, \"showarrow\": false}, {\"text\": \"72\", \"x\": 0.55, \"y\": 17, \"xref\": \"x1\", \"yref\": \"y1\", \"align\": \"left\", \"xanchor\": \"left\", \"font\": {\"color\": \"#000000\"}, \"showarrow\": false}, {\"text\": \"92\", \"x\": 1.55, \"y\": 17, \"xref\": \"x1\", \"yref\": \"y1\", \"align\": \"left\", \"xanchor\": \"left\", \"font\": {\"color\": \"#000000\"}, \"showarrow\": false}, {\"text\": \"20\", \"x\": 2.55, \"y\": 17, \"xref\": \"x1\", \"yref\": \"y1\", \"align\": \"left\", \"xanchor\": \"left\", \"font\": {\"color\": \"#000000\"}, \"showarrow\": false}, {\"text\": \"Berkeley\", \"x\": -0.45, \"y\": 18, \"xref\": \"x1\", \"yref\": \"y1\", \"align\": \"left\", \"xanchor\": \"left\", \"font\": {\"color\": \"#000000\"}, \"showarrow\": false}, {\"text\": \"71\", \"x\": 0.55, \"y\": 18, \"xref\": \"x1\", \"yref\": \"y1\", \"align\": \"left\", \"xanchor\": \"left\", \"font\": {\"color\": \"#000000\"}, \"showarrow\": false}, {\"text\": \"88\", \"x\": 1.55, \"y\": 18, \"xref\": \"x1\", \"yref\": \"y1\", \"align\": \"left\", \"xanchor\": \"left\", \"font\": {\"color\": \"#000000\"}, \"showarrow\": false}, {\"text\": \"17\", \"x\": 2.55, \"y\": 18, \"xref\": \"x1\", \"yref\": \"y1\", \"align\": \"left\", \"xanchor\": \"left\", \"font\": {\"color\": \"#000000\"}, \"showarrow\": false}, {\"text\": \"Emory\", \"x\": -0.45, \"y\": 19, \"xref\": \"x1\", \"yref\": \"y1\", \"align\": \"left\", \"xanchor\": \"left\", \"font\": {\"color\": \"#000000\"}, \"showarrow\": false}, {\"text\": \"68\", \"x\": 0.55, \"y\": 19, \"xref\": \"x1\", \"yref\": \"y1\", \"align\": \"left\", \"xanchor\": \"left\", \"font\": {\"color\": \"#000000\"}, \"showarrow\": false}, {\"text\": \"82\", \"x\": 1.55, \"y\": 19, \"xref\": \"x1\", \"yref\": \"y1\", \"align\": \"left\", \"xanchor\": \"left\", \"font\": {\"color\": \"#000000\"}, \"showarrow\": false}, {\"text\": \"14\", \"x\": 2.55, \"y\": 19, \"xref\": \"x1\", \"yref\": \"y1\", \"align\": \"left\", \"xanchor\": \"left\", \"font\": {\"color\": \"#000000\"}, \"showarrow\": false}, {\"text\": \"UCLA\", \"x\": -0.45, \"y\": 20, \"xref\": \"x1\", \"yref\": \"y1\", \"align\": \"left\", \"xanchor\": \"left\", \"font\": {\"color\": \"#000000\"}, \"showarrow\": false}, {\"text\": \"64\", \"x\": 0.55, \"y\": 20, \"xref\": \"x1\", \"yref\": \"y1\", \"align\": \"left\", \"xanchor\": \"left\", \"font\": {\"color\": \"#000000\"}, \"showarrow\": false}, {\"text\": \"78\", \"x\": 1.55, \"y\": 20, \"xref\": \"x1\", \"yref\": \"y1\", \"align\": \"left\", \"xanchor\": \"left\", \"font\": {\"color\": \"#000000\"}, \"showarrow\": false}, {\"text\": \"14\", \"x\": 2.55, \"y\": 20, \"xref\": \"x1\", \"yref\": \"y1\", \"align\": \"left\", \"xanchor\": \"left\", \"font\": {\"color\": \"#000000\"}, \"showarrow\": false}, {\"text\": \"SoCal\", \"x\": -0.45, \"y\": 21, \"xref\": \"x1\", \"yref\": \"y1\", \"align\": \"left\", \"xanchor\": \"left\", \"font\": {\"color\": \"#000000\"}, \"showarrow\": false}, {\"text\": \"72\", \"x\": 0.55, \"y\": 21, \"xref\": \"x1\", \"yref\": \"y1\", \"align\": \"left\", \"xanchor\": \"left\", \"font\": {\"color\": \"#000000\"}, \"showarrow\": false}, {\"text\": \"81\", \"x\": 1.55, \"y\": 21, \"xref\": \"x1\", \"yref\": \"y1\", \"align\": \"left\", \"xanchor\": \"left\", \"font\": {\"color\": \"#000000\"}, \"showarrow\": false}, {\"text\": \"9\", \"x\": 2.55, \"y\": 21, \"xref\": \"x1\", \"yref\": \"y1\", \"align\": \"left\", \"xanchor\": \"left\", \"font\": {\"color\": \"#000000\"}, \"showarrow\": false}], \"height\": 710, \"margin\": {\"t\": 0, \"b\": 0, \"r\": 0, \"l\": 0}, \"yaxis\": {\"autorange\": \"reversed\", \"zeroline\": false, \"gridwidth\": 2, \"ticks\": \"\", \"dtick\": 1, \"tick0\": 0.5, \"showticklabels\": false}, \"xaxis\": {\"zeroline\": false, \"gridwidth\": 2, \"ticks\": \"\", \"dtick\": 1, \"tick0\": -0.5, \"showticklabels\": false}}, {\"showLink\": true, \"linkText\": \"Export to plot.ly\"})});</script>"
      ]
     },
     "metadata": {},
     "output_type": "display_data"
    }
   ],
   "source": [
    "#step 2: create table\n",
    "init_notebook_mode(connected=True)\n",
    "table = ff.create_table(df)\n",
    "table\n",
    "iplot(table)"
   ]
  }
 ],
 "metadata": {
  "kernelspec": {
   "display_name": "Python [default]",
   "language": "python",
   "name": "python3"
  },
  "language_info": {
   "codemirror_mode": {
    "name": "ipython",
    "version": 3
   },
   "file_extension": ".py",
   "mimetype": "text/x-python",
   "name": "python",
   "nbconvert_exporter": "python",
   "pygments_lexer": "ipython3",
   "version": "3.6.4"
  }
 },
 "nbformat": 4,
 "nbformat_minor": 2
}
