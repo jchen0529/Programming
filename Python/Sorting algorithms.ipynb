{
 "cells": [
  {
   "cell_type": "markdown",
   "metadata": {},
   "source": [
    "## Sorting algorithms and compare run time\n",
    "* Bubble sort\n",
    "* Merge sort\n",
    "\n",
    "Sorting visulization: http://sorting.at/"
   ]
  },
  {
   "cell_type": "markdown",
   "metadata": {},
   "source": [
    "## Bubble sort"
   ]
  },
  {
   "cell_type": "code",
   "execution_count": 3,
   "metadata": {
    "collapsed": true
   },
   "outputs": [],
   "source": [
    "#bubble sort\n",
    "import time\n",
    "def bubble_sort(a_list, key = lambda x:x, reverse = False):\n",
    "    t0=time.clock()\n",
    "    nComp = 0\n",
    "    nExchange = []\n",
    "    exchanges = True\n",
    "    pass_num = len(a_list) - 1   #range(0-8)\n",
    "    b_list = list(a_list.copy())\n",
    "    \n",
    "    while pass_num > 0 and exchanges:\n",
    "        exchanges = False\n",
    "        for i in range(pass_num):\n",
    "            if reverse == False:\n",
    "                nComp += 1\n",
    "                if key(b_list[i]) > key(b_list[i + 1]):\n",
    "                    exchanges = True\n",
    "                    nExchange.append(exchanges)\n",
    "                    b_list[i], b_list[i + 1] = b_list[i + 1], b_list[i]\n",
    "            else:\n",
    "                nComp += 1\n",
    "                if key(b_list[i]) < key(b_list[i + 1]):\n",
    "                    exchanges = True\n",
    "                    nExchange.append(exchanges)\n",
    "                    b_list[i], b_list[i + 1] = b_list[i + 1], b_list[i]\n",
    "        pass_num = pass_num - 1\n",
    "    print(\"Comparisons: {0}\\nSwaps: {1}\\nSorted:{2}\".format(nComp, sum(nExchange), (b_list)))\n",
    "    elapsed=time.clock() - t0\n",
    "    print(\"Time taken for bubble = \", elapsed)"
   ]
  },
  {
   "cell_type": "code",
   "execution_count": 2,
   "metadata": {
    "collapsed": true
   },
   "outputs": [],
   "source": [
    "a_list = [1,5,9,2,4]"
   ]
  },
  {
   "cell_type": "code",
   "execution_count": 4,
   "metadata": {},
   "outputs": [
    {
     "name": "stdout",
     "output_type": "stream",
     "text": [
      "Comparisons: 9\n",
      "Swaps: 4\n",
      "Sorted:[1, 2, 4, 5, 9]\n",
      "Time taken for bubble =  0.000148000000000037\n"
     ]
    }
   ],
   "source": [
    "bubble_sort(a_list)"
   ]
  },
  {
   "cell_type": "code",
   "execution_count": 6,
   "metadata": {},
   "outputs": [
    {
     "name": "stdout",
     "output_type": "stream",
     "text": [
      "Comparisons: 2\n",
      "Swaps: 0\n",
      "Sorted:[('john', 'A', 15), ('jane', 'B', 12), ('dave', 'B', 10)]\n",
      "Time taken for bubble =  0.0004979999999998874\n"
     ]
    }
   ],
   "source": [
    "student_tuples = [\n",
    "                    ('john', 'A', 15),\n",
    "                    ('jane', 'B', 12),\n",
    "                    ('dave', 'B', 10),\n",
    "                ]\n",
    "bubble_sort(student_tuples, key=lambda student: student[2], reverse= True)"
   ]
  },
  {
   "cell_type": "markdown",
   "metadata": {},
   "source": [
    "## Merge sort"
   ]
  },
  {
   "cell_type": "code",
   "execution_count": 7,
   "metadata": {
    "collapsed": true
   },
   "outputs": [],
   "source": [
    "def merge_sort(original_list, key = lambda x:x, reverse = False):\n",
    "    t0=time.clock()\n",
    "    global nSwap\n",
    "    global nComp\n",
    "    nSwap = 0\n",
    "    nComp = 0\n",
    "    new_list = original_list[:]\n",
    "    merge_sort_helper(new_list, key, reverse);\n",
    "    print(\"Sorted: \", new_list)\n",
    "    print(\"Total Comparisons\", nComp, \"Total Exchanges\", nSwap)\n",
    "    elapsed=time.clock() - t0\n",
    "    print(\"Time taken for merge =\", elapsed )\n",
    "\n",
    "def merge_sort_helper(new_list, key = lambda x:x, reverse= False):\n",
    "    if len(new_list) > 1:\n",
    "        mid = len(new_list) // 2\n",
    "        left_half = new_list[:mid]\n",
    "        right_half = new_list[mid:]\n",
    "        merge_sort_helper(left_half, key, reverse)\n",
    "        merge_sort_helper(right_half, key, reverse)\n",
    "\n",
    "        i = 0\n",
    "        j = 0\n",
    "        k = 0\n",
    "        \n",
    "        while i < len(left_half) and j < len(right_half):\n",
    "            global nComp\n",
    "            nComp += 1\n",
    "            if key(left_half[i]) < key(right_half[j]) and not reverse or key(left_half[i]) > key(right_half[j]) and reverse:   \n",
    "                new_list[k] = left_half[i]\n",
    "                i = i + 1\n",
    "            else:\n",
    "                global nSwap\n",
    "                nSwap += 1\n",
    "                new_list[k] = right_half[j]\n",
    "                j = j + 1\n",
    "            k = k + 1\n",
    "\n",
    "        while i < len(left_half):\n",
    "            new_list[k] = left_half[i]\n",
    "            i = i + 1\n",
    "            k = k + 1\n",
    "\n",
    "        while j < len(right_half):\n",
    "            new_list[k] = right_half[j]\n",
    "            j = j + 1\n",
    "            k = k + 1"
   ]
  },
  {
   "cell_type": "code",
   "execution_count": 8,
   "metadata": {},
   "outputs": [
    {
     "name": "stdout",
     "output_type": "stream",
     "text": [
      "Sorted:  [1, 2, 4, 5, 9]\n",
      "Total Comparisons 8 Total Exchanges 4\n",
      "Time taken for merge = 0.0014140000000000263\n"
     ]
    }
   ],
   "source": [
    "merge_sort(a_list)"
   ]
  },
  {
   "cell_type": "markdown",
   "metadata": {},
   "source": [
    "## Python build-in sorted function"
   ]
  },
  {
   "cell_type": "code",
   "execution_count": 11,
   "metadata": {},
   "outputs": [
    {
     "data": {
      "text/plain": [
       "['e', 'd', 'c', 'b', 'a']"
      ]
     },
     "execution_count": 11,
     "metadata": {},
     "output_type": "execute_result"
    }
   ],
   "source": [
    "b_list = ['a','b','c','d','e']\n",
    "sorted(b_list,reverse = True)"
   ]
  },
  {
   "cell_type": "markdown",
   "metadata": {},
   "source": [
    "# Compare and summarize all three sorting dunctions"
   ]
  },
  {
   "cell_type": "code",
   "execution_count": 14,
   "metadata": {
    "collapsed": true
   },
   "outputs": [],
   "source": [
    "#Random list generator\n",
    "import random\n",
    "import timeit\n",
    "\n",
    "def random_list (n):\n",
    "    sample_list=[]\n",
    "    for i in range(n):\n",
    "            sample_list.append(random.randint(0,100000))\n",
    "    return sample_list"
   ]
  },
  {
   "cell_type": "code",
   "execution_count": null,
   "metadata": {},
   "outputs": [
    {
     "name": "stdout",
     "output_type": "stream",
     "text": [
      "Comparisons: 4872\n",
      "Swaps: 2439\n",
      "Sorted:[1505, 1595, 1689, 2389, 3268, 5753, 5878, 7297, 7881, 8235, 8946, 9835, 10455, 10842, 10964, 11511, 11820, 12444, 12647, 12692, 14394, 19859, 20772, 22478, 22621, 23085, 23907, 24654, 27746, 30556, 30640, 31089, 31484, 32129, 32662, 34161, 34555, 34820, 35879, 37984, 38571, 41137, 41502, 42480, 43321, 43565, 43577, 43849, 44761, 44770, 45067, 47002, 49021, 49326, 51712, 52073, 53990, 54353, 54912, 58416, 58721, 59517, 60076, 62731, 63045, 63056, 63236, 63449, 64727, 64788, 64935, 65284, 71365, 75450, 78679, 78867, 82125, 82706, 84182, 85102, 85212, 85718, 85843, 86903, 88511, 88860, 89048, 89235, 89340, 90447, 90801, 90813, 91619, 93201, 94090, 94400, 94769, 95215, 97057, 99880]\n",
      "Time taken for bubble =  0.003330000000005384\n",
      "Sorted:  [325, 504, 1043, 1164, 2592, 2685, 3454, 4367, 7275, 8460, 9106, 9541, 10440, 11075, 11270, 11319, 13092, 16503, 17288, 18191, 18603, 21072, 21405, 22607, 22835, 22933, 23263, 23716, 24160, 25047, 25430, 26243, 26402, 27946, 29091, 30073, 30453, 30600, 31050, 31854, 32568, 32638, 33165, 34619, 34751, 35391, 36113, 39161, 40346, 42115, 42608, 44036, 44105, 45348, 45447, 49112, 49288, 50184, 50317, 51097, 51812, 52728, 52900, 54333, 54764, 56827, 57270, 57444, 59043, 59075, 59629, 60024, 60160, 62912, 64103, 64447, 65128, 65499, 66217, 67121, 68771, 69118, 69252, 70326, 73893, 74870, 74904, 76098, 76461, 80888, 86264, 87917, 91146, 92837, 96565, 97057, 97698, 97898, 98072, 99042]\n",
      "Total Comparisons 540 Total Exchanges 277\n",
      "Time taken for merge = 0.0010340000000041982\n",
      "Comparisons: 496872\n",
      "Swaps: 260821\n",
      "Sorted:[87, 175, 233, 303, 367, 370, 422, 434, 537, 553, 593, 792, 919, 924, 960, 1019, 1133, 1161, 1185, 1235, 1291, 1410, 1542, 1563, 1871, 1910, 1947, 2002, 2187, 2285, 2307, 2406, 2410, 2528, 2802, 2830, 2871, 2957, 2964, 2995, 3237, 3259, 3269, 3357, 3385, 3428, 3768, 3830, 3889, 3946, 4074, 4085, 4150, 4449, 4468, 4488, 4519, 4549, 4694, 4790, 4928, 5033, 5092, 5253, 5343, 5347, 5424, 5571, 5647, 5685, 5765, 5778, 5825, 5841, 5968, 6107, 6250, 6301, 6333, 6554, 6554, 6565, 6641, 6754, 6770, 6862, 6987, 7203, 7358, 7750, 7795, 7814, 7816, 7908, 7976, 7981, 8123, 8180, 8225, 8473, 8508, 8513, 8580, 8589, 8698, 8867, 8903, 9121, 9252, 9255, 9391, 9394, 9398, 9449, 9470, 9599, 9878, 10061, 10120, 10133, 10212, 10247, 10309, 10323, 10423, 10815, 10934, 10958, 11040, 11271, 11485, 11680, 11741, 11885, 11933, 12063, 12261, 12368, 12442, 12475, 12582, 12596, 12605, 12828, 12843, 12887, 12992, 12995, 13186, 13221, 13259, 13360, 13438, 13680, 13689, 14031, 14045, 14107, 14187, 14232, 14248, 14256, 14312, 14358, 14491, 14782, 14801, 14809, 14824, 14853, 14862, 14908, 14967, 15286, 15286, 15323, 15346, 15453, 15607, 15843, 15883, 16017, 16018, 16256, 16257, 16335, 16401, 16459, 16525, 16633, 16636, 16772, 17070, 17242, 17311, 17437, 17481, 17724, 17772, 17787, 17843, 18004, 18019, 18024, 18131, 18165, 18316, 18333, 18366, 18388, 18479, 18497, 18599, 18610, 18742, 18977, 19096, 19157, 19371, 19384, 19748, 19905, 20027, 20132, 20423, 20424, 20449, 20680, 20737, 20830, 20893, 21010, 21011, 21258, 21291, 21325, 21430, 21434, 21444, 21473, 21536, 21544, 21740, 22128, 22132, 22325, 22393, 22512, 22520, 22583, 22647, 22963, 23005, 23006, 23095, 23300, 23328, 23544, 23576, 23701, 23702, 23796, 23967, 24005, 24091, 24355, 24638, 24664, 24695, 24766, 24923, 24985, 25065, 25167, 25283, 25340, 25527, 25886, 25934, 26040, 26096, 26327, 26343, 26379, 26402, 26649, 26752, 26865, 27081, 27087, 27112, 27162, 27327, 27459, 27683, 27714, 27766, 27807, 27879, 27927, 28214, 28253, 28486, 28495, 28621, 28646, 28646, 28915, 29082, 29223, 29664, 29769, 29797, 30006, 30008, 30104, 30137, 30271, 30404, 30518, 30905, 30910, 31005, 31225, 31354, 31407, 31444, 31618, 31698, 31732, 31815, 31931, 31964, 32002, 32017, 32026, 32065, 32083, 32115, 32170, 32194, 32283, 32622, 32635, 32711, 32763, 32793, 32833, 32836, 33013, 33082, 33152, 33157, 33244, 33293, 33355, 33414, 33415, 33446, 33622, 33636, 33691, 33740, 33921, 34048, 34078, 34115, 34127, 34138, 34173, 34298, 34298, 34510, 34533, 34640, 34650, 34682, 34893, 34917, 35035, 35035, 35058, 35413, 35479, 35485, 35604, 35690, 35719, 35734, 35775, 35832, 35896, 36174, 36204, 36355, 36383, 36776, 36777, 36843, 36936, 37043, 37119, 37619, 37669, 37678, 37762, 37804, 37806, 37906, 38041, 38232, 38334, 38592, 38631, 38686, 38834, 38986, 39091, 39097, 39106, 39165, 39178, 39264, 39311, 39406, 39449, 39747, 39909, 39984, 40008, 40046, 40344, 40400, 40493, 40571, 40712, 40741, 40778, 40853, 41146, 41197, 41258, 41302, 41478, 41585, 41623, 41795, 41815, 42077, 42200, 42219, 42307, 42367, 42497, 42872, 42934, 42993, 43201, 43335, 43550, 43866, 43922, 43925, 43957, 44153, 44259, 44509, 44556, 44653, 44657, 44705, 44759, 44889, 44950, 45015, 45139, 45157, 45164, 45302, 45326, 45336, 45486, 45523, 45525, 45822, 45896, 46020, 46035, 46099, 46521, 46534, 46741, 46764, 47023, 47124, 47296, 47420, 47588, 47648, 47701, 47843, 47844, 47845, 47974, 48037, 48083, 48152, 48181, 48324, 48342, 48409, 48421, 48510, 48539, 48670, 49040, 49084, 49236, 49358, 49683, 49687, 49751, 49821, 49833, 50142, 50159, 50197, 50207, 50406, 50661, 50662, 50742, 50793, 50868, 50971, 51094, 51105, 51169, 51383, 51407, 51414, 51429, 51623, 51670, 51710, 51859, 51915, 51915, 51935, 52027, 52433, 52768, 52891, 52913, 52945, 53032, 53090, 53538, 53577, 53826, 53895, 53941, 53942, 54063, 54129, 54236, 54333, 54450, 54567, 54735, 54759, 54772, 54902, 54911, 55037, 55272, 55303, 55372, 55592, 55685, 55693, 55706, 55760, 55815, 55821, 55971, 55987, 56031, 56036, 56103, 56144, 56313, 56346, 56561, 56607, 56718, 56758, 56783, 56999, 57034, 57065, 57076, 57112, 57205, 57244, 57257, 57282, 57317, 57673, 57705, 57763, 57820, 57898, 57948, 57948, 57974, 58067, 58120, 58138, 58826, 58844, 58939, 58983, 59054, 59109, 59251, 59500, 59568, 59651, 59740, 59929, 60055, 60186, 60390, 60433, 60468, 60565, 60610, 60937, 60972, 61143, 61240, 61332, 61398, 61401, 61945, 62035, 62047, 62155, 62216, 62424, 62515, 62673, 62890, 62920, 63038, 63328, 63475, 63533, 63534, 63814, 63863, 63926, 64264, 64498, 64501, 64683, 64835, 65051, 65079, 65176, 65244, 65455, 65465, 65605, 65679, 65745, 65771, 65899, 65914, 65990, 66038, 66047, 66056, 66122, 66189, 66236, 66357, 66421, 66432, 66483, 66655, 66747, 66892, 67013, 67034, 67247, 67262, 67286, 67388, 67529, 67634, 67888, 68063, 68149, 68164, 68193, 68230, 68332, 68632, 68672, 68881, 68941, 69057, 69203, 69245, 69315, 69405, 69460, 69948, 70082, 70110, 70125, 70195, 70353, 70360, 70453, 70506, 70591, 70609, 70624, 70746, 70755, 70760, 70784, 70844, 70982, 71089, 71210, 71261, 71315, 71458, 71616, 71838, 71969, 72080, 72361, 72474, 72499, 72751, 72869, 73225, 73279, 73425, 73429, 73658, 73757, 73803, 73929, 74214, 74262, 74802, 74952, 74959, 75053, 75261, 75397, 75433, 75478, 75489, 75522, 75591, 75712, 75713, 75760, 76065, 76157, 76375, 76525, 76587, 76761, 76908, 76913, 76922, 77008, 77192, 77496, 77618, 77760, 77799, 77943, 77963, 78753, 79268, 79295, 79460, 79666, 79746, 79863, 80024, 80102, 80120, 80163, 80517, 80559, 80569, 80745, 80825, 80859, 81013, 81098, 81102, 81316, 81394, 81455, 81503, 81926, 82045, 82057, 82176, 82264, 82303, 82314, 82423, 82672, 82756, 82830, 82886, 83216, 83228, 83508, 83730, 83764, 83808, 83825, 83949, 84026, 84080, 84102, 84171, 84379, 84437, 84520, 84586, 84781, 84803, 84896, 84899, 84979, 85159, 85462, 85692, 85693, 85696, 85734, 85882, 86071, 86072, 86090, 86154, 86279, 86378, 86415, 86488, 86694, 86743, 86909, 87055, 87144, 87223, 87273, 87483, 87497, 87688, 87838, 88115, 88354, 88381, 88480, 88554, 88653, 88685, 88738, 88781, 89374, 89416, 89542, 89625, 89686, 89766, 89997, 90015, 90029, 90276, 90447, 90552, 90600, 90716, 90878, 90906, 91038, 91081, 91181, 91209, 91391, 91439, 91705, 91765, 91808, 91878, 91917, 92150, 92176, 92321, 92521, 92621, 92671, 92731, 92759, 92880, 92938, 93031, 93158, 93175, 93201, 93366, 93390, 93402, 93431, 93447, 93570, 93572, 93631, 93676, 93724, 93725, 93752, 94034, 94044, 94204, 94329, 94364, 94482, 94632, 94972, 95009, 95101, 95162, 95181, 95207, 95227, 95239, 95330, 95413, 95441, 95446, 95602, 95699, 95792, 95986, 96019, 96023, 96106, 96260, 96318, 96482, 96546, 96601, 96648, 96669, 96674, 96675, 97058, 97113, 97123, 97175, 97302, 97423, 97595, 97629, 97652, 97711, 97770, 97823, 97855, 97915, 97950, 98110, 98451, 98534, 98651, 98716, 98750, 99029, 99312, 99405, 99691, 99715, 99925, 99975]\n",
      "Time taken for bubble =  0.2464650000000006\n",
      "Sorted:  [63, 150, 171, 210, 217, 239, 266, 376, 387, 478, 669, 800, 898, 948, 1006, 1187, 1381, 1399, 1491, 1923, 2165, 2289, 2309, 2344, 2586, 2590, 2734, 2755, 2870, 2872, 2950, 2960, 3159, 3193, 3310, 3476, 3548, 3553, 3556, 3574, 3782, 3829, 3896, 3982, 4110, 4499, 4512, 4590, 4591, 4706, 4850, 4911, 4916, 5006, 5037, 5042, 5087, 5232, 5258, 5274, 5386, 5457, 5474, 5497, 5519, 5564, 5794, 5871, 5872, 5890, 6035, 6040, 6120, 6168, 6210, 6352, 6382, 6488, 6591, 6593, 6633, 6874, 6907, 6950, 6979, 6996, 7314, 7471, 7551, 7722, 8032, 8118, 8231, 8307, 8313, 8409, 8458, 8563, 8570, 8636, 8788, 8788, 8841, 8873, 8945, 9015, 9070, 9263, 9468, 9505, 9540, 9629, 9659, 9956, 10136, 10209, 10396, 10571, 10674, 10883, 10904, 10990, 11098, 11389, 11505, 11553, 11905, 11958, 12027, 12097, 12142, 12233, 12246, 12390, 12544, 12608, 12642, 12828, 12873, 12945, 13000, 13046, 13067, 13097, 13149, 13246, 13285, 13361, 13422, 13500, 13583, 13713, 13720, 13745, 13797, 13893, 13903, 13953, 14288, 14312, 14442, 14744, 14809, 14829, 14922, 15000, 15085, 15134, 15177, 15225, 15291, 15500, 15649, 15684, 16060, 16353, 16377, 16457, 16632, 16756, 16781, 16845, 16959, 17068, 17202, 17265, 17282, 17475, 17615, 17624, 17774, 17788, 17867, 17889, 17963, 18189, 18269, 18616, 18786, 18863, 19011, 19208, 19270, 19321, 19345, 19437, 19539, 19611, 19651, 19778, 20070, 20109, 20184, 20419, 20466, 20537, 20712, 20842, 20955, 21041, 21099, 21277, 21586, 21694, 21821, 21822, 21859, 21939, 21990, 22054, 22110, 22116, 22276, 22490, 22548, 22568, 22989, 22997, 23043, 23113, 23176, 23179, 23269, 23278, 23319, 23414, 23690, 23732, 23827, 23975, 24025, 24096, 24272, 24759, 24893, 24898, 24934, 24990, 25564, 25761, 25945, 26006, 26100, 26215, 26229, 26280, 26482, 26676, 26851, 26936, 26944, 26973, 27060, 27291, 27304, 27396, 27412, 27587, 27638, 27680, 27843, 27856, 27885, 27890, 28079, 28082, 28091, 28215, 28252, 28288, 28466, 28561, 28646, 28658, 28803, 28824, 28886, 28916, 28968, 29159, 29540, 29572, 29616, 29627, 29662, 29791, 29907, 29916, 30033, 30207, 30254, 30326, 30502, 30511, 30534, 30705, 30725, 30813, 30831, 31005, 31301, 31498, 31527, 31776, 31870, 31886, 31997, 32059, 32168, 32241, 32304, 32369, 32526, 32648, 32711, 32716, 32742, 32780, 32898, 33041, 33724, 33801, 33803, 33840, 33892, 34285, 34512, 34537, 34608, 34731, 34751, 34869, 34954, 35066, 35075, 35159, 35205, 35609, 35693, 35702, 35710, 35769, 35834, 35838, 35879, 35938, 36129, 36134, 36134, 36185, 36244, 36338, 36468, 36490, 36520, 36743, 36878, 37079, 37120, 37365, 37481, 37514, 37637, 37648, 38008, 38022, 38055, 38152, 38359, 38393, 38648, 38757, 38765, 38846, 38856, 38867, 39025, 39137, 39142, 39217, 39260, 39430, 39580, 39593, 39655, 39711, 39842, 39878, 40103, 40181, 40233, 40242, 40352, 40358, 40637, 40681, 40858, 40913, 41044, 41110, 41174, 41335, 41437, 41677, 41751, 41761, 41815, 41840, 41923, 41941, 42039, 42195, 42277, 42317, 42371, 42537, 42567, 42673, 42706, 42745, 42834, 42967, 42983, 43011, 43020, 43145, 43270, 43300, 43324, 43348, 43462, 43476, 43479, 43513, 43727, 43795, 43850, 43859, 43883, 43947, 43960, 44007, 44015, 44141, 44167, 44213, 44239, 44264, 44284, 44318, 44328, 44413, 44455, 44880, 44914, 45112, 45163, 45378, 45455, 45661, 45724, 45743, 45844, 46071, 46124, 46235, 46362, 46455, 46483, 46502, 46588, 46783, 46850, 46910, 46984, 47035, 47116, 47211, 47501, 47621, 47723, 47798, 48042, 48080, 48142, 48184, 48385, 48441, 48502, 48510, 48564, 48869, 49074, 49161, 49351, 49507, 49536, 49569, 49598, 49655, 49758, 49853, 49919, 50538, 50641, 50733, 50740, 50866, 51165, 51258, 51274, 51281, 51339, 51369, 51484, 51505, 51617, 51628, 52039, 52076, 52088, 52101, 52239, 52297, 52349, 52420, 52422, 52511, 52528, 52643, 52663, 52759, 53119, 53365, 53412, 53455, 53558, 53572, 53655, 53684, 53688, 53954, 54034, 54080, 54152, 54402, 54522, 54619, 54677, 54807, 55055, 55567, 55643, 55860, 55879, 55945, 56440, 56629, 56918, 56935, 57170, 57337, 57546, 57567, 57744, 57895, 57946, 58038, 58091, 58216, 58265, 58273, 58574, 58735, 58806, 58850, 58877, 59028, 59308, 59311, 59419, 59469, 59606, 59669, 59881, 59951, 59972, 60008, 60198, 60284, 60355, 60719, 60764, 60893, 60923, 60987, 61009, 61029, 61100, 61154, 61368, 61623, 61646, 61844, 61967, 62342, 62478, 62640, 62648, 62678, 62692, 62749, 62776, 63055, 63099, 63101, 63101, 63138, 63272, 63405, 63498, 63718, 63830, 63832, 63963, 63974, 64079, 64100, 64164, 64202, 64373, 64513, 64532, 64583, 64781, 65040, 65162, 65217, 65469, 65526, 65677, 65831, 65894, 65912, 65956, 66322, 67068, 67071, 67074, 67189, 67240, 67287, 67317, 67479, 67612, 67920, 67938, 68217, 68345, 68349, 68454, 68517, 68586, 68614, 68839, 68871, 68878, 68878, 68883, 68989, 68994, 69008, 69144, 69366, 69484, 69499, 69536, 69549, 69689, 69786, 69805, 69888, 70048, 70078, 70097, 70121, 70288, 70291, 70385, 70410, 70494, 70648, 70665, 70856, 71056, 71138, 71455, 71536, 71552, 71573, 71603, 72031, 72056, 72089, 72184, 72293, 72419, 72617, 72771, 72799, 72808, 72854, 72886, 72933, 72974, 73020, 73146, 73191, 73246, 73275, 73494, 73511, 73711, 73712, 73746, 73819, 73919, 73926, 73939, 74011, 74085, 74094, 74210, 74323, 74399, 74909, 74917, 75360, 75371, 75416, 75427, 75451, 75700, 75782, 75879, 75966, 76075, 76283, 76368, 76491, 76590, 76641, 76658, 76738, 76748, 76781, 77126, 77129, 77145, 77155, 77316, 77366, 77637, 77674, 77856, 77918, 77946, 78357, 78412, 78546, 78557, 78623, 78700, 78718, 78967, 79010, 79053, 79124, 79469, 79768, 79949, 79975, 80010, 80126, 80179, 80353, 80366, 80619, 80766, 80821, 80847, 81223, 81257, 81322, 81324, 81399, 81520, 81631, 81795, 81955, 82059, 82247, 82262, 82303, 82308, 82331, 82372, 82376, 82502, 82546, 82631, 82754, 83083, 83196, 83240, 83503, 83537, 83604, 83633, 83664, 83726, 83784, 83932, 83951, 84090, 84156, 84345, 84376, 84613, 84769, 84787, 84830, 85028, 85323, 85397, 85689, 85794, 85816, 85894, 85897, 85920, 85941, 85959, 85969, 86043, 86170, 86254, 86368, 86483, 86500, 86600, 86724, 86775, 86807, 86849, 86870, 86903, 86951, 86973, 87222, 87351, 87911, 87997, 88013, 88051, 88276, 88341, 88370, 88656, 88684, 88818, 88889, 88925, 89013, 89118, 89229, 89372, 89545, 89659, 89735, 89752, 90268, 90314, 90358, 90363, 90438, 90563, 90572, 90576, 90618, 90778, 90788, 90932, 91003, 91018, 91321, 91485, 91505, 91613, 91650, 91677, 91714, 91746, 91823, 91911, 91946, 91984, 92023, 92144, 92201, 92310, 92322, 92521, 92646, 92746, 92758, 92782, 93019, 93187, 93254, 93283, 93287, 93542, 93648, 93711, 93872, 93874, 94120, 94159, 94213, 94246, 94266, 94277, 94370, 94451, 94729, 94758, 94813, 94822, 94922, 94934, 95067, 95082, 95296, 95533, 95664, 95854, 95866, 95896, 95903, 96128, 96508, 96776, 97421, 97635, 97638, 97697, 97761, 98162, 98164, 98228, 98261, 98547, 98658, 98681, 98727, 98733, 98798, 98825, 98833, 98836, 98875, 99141, 99379, 99402, 99593, 99619, 99636, 99729, 99974]\n",
      "Total Comparisons 8711 Total Exchanges 4379\n",
      "Time taken for merge = 0.00927400000000489\n"
     ]
    }
   ],
   "source": [
    "n=[100,1000,10000]\n",
    "\n",
    "bubble_times =[]\n",
    "merge_times =[]  \n",
    "sorted_times=[]\n",
    "\n",
    "bubble_times.append(timeit.timeit(lambda: bubble_sort(random_list(n[0]),key = lambda x:x,reverse = False), number=1))\n",
    "merge_times.append(timeit.timeit(lambda: merge_sort(random_list(n[0]), key = lambda x:x,reverse = False), number=1))\n",
    "sorted_times.append(timeit.timeit(lambda: sorted(random_list(n[0]), reverse = False), number = 1))\n",
    "\n",
    "bubble_times.append(timeit.timeit(lambda: bubble_sort(random_list(n[1]),key = lambda x:x,reverse = False), number=1))\n",
    "merge_times.append(timeit.timeit(lambda: merge_sort(random_list(n[1]), key = lambda x:x,reverse = False), number=1))\n",
    "sorted_times.append(timeit.timeit(lambda: sorted(random_list(n[1]), reverse = False), number = 1))\n",
    "\n",
    "bubble_times.append(timeit.timeit(lambda: bubble_sort(random_list(n[2]),key = lambda x:x,reverse = False), number=1))\n",
    "merge_times.append(timeit.timeit(lambda: merge_sort(random_list(n[2]), key = lambda x:x,reverse = False), number=1))\n",
    "sorted_times.append(timeit.timeit(lambda: sorted(random_list(n[2]), reverse = False), number = 1))\n",
    "\n",
    "#summary tables\n",
    "import pandas as pd\n",
    "import numpy as np\n",
    "\n",
    "timer = np.array([['','Bubble Sort','Merge','Sorted'],\n",
    "                ['n=100',bubble_times[0],merge_times[0],sorted_times[0]],\n",
    "                ['n=1000',bubble_times[1],merge_times[1],sorted_times[1]],\n",
    "                 ['n=10000', bubble_times[2],merge_times[2],sorted_times[2]]])\n",
    "                \n",
    "timer_table = pd.DataFrame(data=timer[1:,1:],\n",
    "                  index=timer[1:,0],\n",
    "                  columns=timer[0,1:])"
   ]
  },
  {
   "cell_type": "code",
   "execution_count": 16,
   "metadata": {},
   "outputs": [
    {
     "data": {
      "image/png": "[encoded data removed]",
      "text/plain": [
       "<Figure size 432x288 with 1 Axes>"
      ]
     },
     "metadata": {},
     "output_type": "display_data"
    }
   ],
   "source": [
    "#line chart\n",
    "import matplotlib.pyplot as plt\n",
    "import math\n",
    "\n",
    "x = [math.log10(100),math.log10(1000),math.log10(100000)]\n",
    "\n",
    "b = plt.plot(x, bubble_times, color = 'blue')\n",
    "m = plt.plot(x, merge_times, color = 'red')\n",
    "s = plt.plot(x, sorted_times, color = 'green')\n",
    "\n",
    "plt.ylabel('timer')\n",
    "plt.xlabel('size of the list')\n",
    "plt.legend(['$Bubble sort$', '$Merge sort$', '$Sorted$'], loc='best', fontsize=10)\n",
    "plt.show()"
   ]
  }
 ],
 "metadata": {
  "kernelspec": {
   "display_name": "Python [default]",
   "language": "python",
   "name": "python3"
  },
  "language_info": {
   "codemirror_mode": {
    "name": "ipython",
    "version": 3
   },
   "file_extension": ".py",
   "mimetype": "text/x-python",
   "name": "python",
   "nbconvert_exporter": "python",
   "pygments_lexer": "ipython3",
   "version": "3.6.4"
  }
 },
 "nbformat": 4,
 "nbformat_minor": 2
}
