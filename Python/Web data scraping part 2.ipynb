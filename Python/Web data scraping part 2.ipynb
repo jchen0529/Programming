{
 "cells": [
  {
   "cell_type": "markdown",
   "metadata": {},
   "source": [
    "## Web Scraping/crawling - sequential\n",
    "\n",
    "Additional reference: https://medium.freecodecamp.org/how-to-scrape-websites-with-python-and-beautifulsoup-5946935d93fe"
   ]
  },
  {
   "cell_type": "markdown",
   "metadata": {},
   "source": [
    "Here I extracted all the prisoner's info from the first page. To extract all the prisoners information, in the first readin function, I can set max rows to be 250 with the following code:\n",
    "get_data = { 'max_rows' : '250'}\n",
    "response = requests.post(url ,data=get_data)"
   ]
  },
  {
   "cell_type": "code",
   "execution_count": 21,
   "metadata": {
    "collapsed": true
   },
   "outputs": [],
   "source": [
    "import requests\n",
    "from bs4 import BeautifulSoup\n",
    "import time\n",
    "\n",
    "def readin(url):\n",
    "    t0=time.time()\n",
    "    response = requests.get(url)\n",
    "    html = response.content.decode('ascii')\n",
    "    elapsed=time.time() - t0\n",
    "    return BeautifulSoup(html, 'html.parser'), elapsed"
   ]
  },
  {
   "cell_type": "code",
   "execution_count": 22,
   "metadata": {},
   "outputs": [
    {
     "data": {
      "text/plain": [
       "0.38697004318237305"
      ]
     },
     "execution_count": 22,
     "metadata": {},
     "output_type": "execute_result"
    }
   ],
   "source": [
    "soup,time1 = readin('https://report.boonecountymo.org/mrcjava/servlet/SH01_MP.I00290s')\n",
    "time1"
   ]
  },
  {
   "cell_type": "code",
   "execution_count": 23,
   "metadata": {
    "collapsed": true
   },
   "outputs": [],
   "source": [
    "#Sequential data extract from the main page, create dictionary with ID as key, first name, last name, and age\n",
    "\n",
    "def web_scrape(soup):\n",
    "    t0= time.time()\n",
    "    prisoner_dict = {}\n",
    "    key = []\n",
    "    last_name = []\n",
    "    first_name = []\n",
    "    age = []\n",
    "    \n",
    "    #extract information from the first page\n",
    "    for i in soup.find_all(\"a\", href=lambda href: href and \"PERKEP\" in href):\n",
    "        url = i['href'].split('=')\n",
    "        url_s = url[1].split('&')\n",
    "        key.append(url_s[0])\n",
    "        \n",
    "    for i in soup.findAll('td', {'data-th':'Last Name'}):\n",
    "        last_name.append(i.get_text(strip = True) [0:])\n",
    "    for i in soup.findAll('td', {'data-th':'First Name'}):\n",
    "        first_name.append(i.get_text(strip = True) [0:])\n",
    "    for i in soup.findAll('td', {'data-th':'Age'}):\n",
    "        age.append(i.get_text(strip = True) [0:])\n",
    "\n",
    "    for k in range(len(key)):\n",
    "        prisoner_dict[key[k]] = {}\n",
    "        prisoner_dict[key[k]]['Last name'] = last_name [k]\n",
    "        prisoner_dict[key[k]]['First name'] = first_name [k]\n",
    "        prisoner_dict[key[k]]['Age'] = age[k]\n",
    "    elapsed=time.time() - t0\n",
    "    return prisoner_dict, elapsed\n"
   ]
  },
  {
   "cell_type": "code",
   "execution_count": 24,
   "metadata": {
    "collapsed": true
   },
   "outputs": [],
   "source": [
    "first_dict,time2 = web_scrape(soup)"
   ]
  },
  {
   "cell_type": "code",
   "execution_count": 25,
   "metadata": {
    "collapsed": true
   },
   "outputs": [],
   "source": [
    "#Sequential data extract from the details page, create dict with ID as key, charge descriptions, total cases and bails\n",
    "\n",
    "def additional(soup):\n",
    "    t0= time.time()\n",
    "    prisoner_add = {}\n",
    "    key = []\n",
    "    total_charge = []\n",
    "    total_case = []\n",
    "    total_bail = []\n",
    "    \n",
    "    for i in soup.find_all(\"a\", href=lambda href: href and \"PERKEP\" in href):\n",
    "        charge_describe = []\n",
    "        bail = []\n",
    "        url = i['href'].split('=')\n",
    "        url_s = url[1].split('&')\n",
    "        key.append(url_s[0])\n",
    "        add_url = 'https://report.boonecountymo.org/mrcjava/servlet/SH01_MP.I00500s?PERKEP='+str(url_s[0])\n",
    "        responsek=requests.get(add_url)\n",
    "        add_info = responsek.content.decode('ascii')\n",
    "        add_soup = BeautifulSoup(add_info, 'html.parser')\n",
    "        \n",
    "        for i in add_soup.findAll('td', {'data-th':'CHARGE DESCRIPTION'}):\n",
    "            charge_describe.append(i.get_text(strip = True))\n",
    "            case_count = len(charge_describe)\n",
    "        \n",
    "        total_charge.append(charge_describe)\n",
    "        total_case.append(case_count)\n",
    "        \n",
    "        for i in add_soup.findAll('td', {'data-th':'BAIL'}):\n",
    "            temp_bail = i.get_text(strip = True)\n",
    "            if temp_bail:\n",
    "                bail.append(temp_bail)\n",
    "            bail_sum = list(map(lambda x: float(x.replace(',','')),bail))\n",
    "        \n",
    "        total_bail.append(sum(bail_sum))\n",
    "    \n",
    "    for k in range(len(key)):\n",
    "        prisoner_add[key[k]] = {}\n",
    "        prisoner_add[key[k]]['Charge description'] = total_charge[k]\n",
    "        prisoner_add[key[k]]['Total case'] = total_case[k]\n",
    "        prisoner_add[key[k]]['Total bail'] = total_bail[k]\n",
    "    \n",
    "    crime_4_plot = []\n",
    "    #flatten out the list of crime descriptions for plot later\n",
    "    for i in total_charge:\n",
    "        crime_4_plot.extend(i)\n",
    "    elapsed=time.time() - t0\n",
    "    return prisoner_add, crime_4_plot, elapsed"
   ]
  },
  {
   "cell_type": "code",
   "execution_count": 26,
   "metadata": {
    "collapsed": true
   },
   "outputs": [],
   "source": [
    "new, crime, time3 = additional(soup)"
   ]
  },
  {
   "cell_type": "code",
   "execution_count": 27,
   "metadata": {
    "collapsed": true
   },
   "outputs": [],
   "source": [
    "#Merge the two dictionaries together to return the required information for each prisoner\n",
    "def merge(dict1, dict2):\n",
    "    t0= time.time()\n",
    "    for key in dict1.keys():\n",
    "        if key in dict2.keys():\n",
    "            dict1[key]['Charge description'] = dict2[key]['Charge description']\n",
    "            dict1[key]['Total case'] = dict2[key]['Total case']\n",
    "            dict1[key]['Total bail'] = dict2[key]['Total bail']\n",
    "    elapsed=time.time() - t0\n",
    "    return dict1, elapsed"
   ]
  },
  {
   "cell_type": "code",
   "execution_count": 28,
   "metadata": {},
   "outputs": [
    {
     "name": "stdout",
     "output_type": "stream",
     "text": [
      "{'66343': {'Last name': 'AARON', 'First name': 'KEVIN', 'Age': '23', 'Charge description': ['DOMESTIC ASSAULT - 2'], 'Total case': 1, 'Total bail': 30000.0}, '77695': {'Last name': 'ADAM', 'First name': 'OMER', 'Age': '29', 'Charge description': ['SEX ABUSE-2ND DEG', 'ASSAULT - 4TH - C'], 'Total case': 2, 'Total bail': 15000.0}, '51443': {'Last name': 'AKERS', 'First name': 'BRANDEN', 'Age': '32', 'Charge description': ['P&P VIOLATION'], 'Total case': 1, 'Total bail': 5000.0}, '19022': {'Last name': 'ALLEN', 'First name': 'WILLIAM', 'Age': '55', 'Charge description': ['FAIL REG AS SEX OFFE'], 'Total case': 1, 'Total bail': 10000.0}, '66544': {'Last name': 'ANDERSON', 'First name': 'RICHARD', 'Age': '24', 'Charge description': ['COMMIT', 'P&P VIOLATION'], 'Total case': 2, 'Total bail': 5000.0}, '78424': {'Last name': 'AVALOS-AVALOS', 'First name': 'JOSE', 'Age': '19', 'Charge description': ['BURGLARY - 2ND DEGRE', 'TAMPERING WITH MOTOR'], 'Total case': 2, 'Total bail': 20000.0}, '4285': {'Last name': 'BARNEY', 'First name': 'FELSON', 'Age': '40', 'Charge description': ['PEACE DISTURBANCE', 'DIST.MANU.OR POSSES.', 'RESISTING ARREST', 'FAILURE TO APPEAR'], 'Total case': 4, 'Total bail': 94000.0}, '74098': {'Last name': 'BARRON', 'First name': 'DUSTYN', 'Age': '20', 'Charge description': ['DOMESTIC ASSAULT - 2', 'P&P VIOLATION', 'OUT/COUNTY WARRANT'], 'Total case': 3, 'Total bail': 6500.0}, '73590': {'Last name': 'BLAIR', 'First name': 'RYAN', 'Age': '26', 'Charge description': ['POSSESS CONTROL SUBS', 'RESISTING/INTERFERIN', 'RESIST/INTERFERE ARR', 'OUT/COUNTY WARRANT', 'ASSAULT - 4TH - A'], 'Total case': 5, 'Total bail': 12654.0}, '63477': {'Last name': 'BLOCKER', 'First name': 'TRAMELL', 'Age': '39', 'Charge description': ['ROBBERY - 1ST DEGREE', 'BURGLARY 1ST DEGREE', 'ARMED CRIMINAL ACTIO'], 'Total case': 3, 'Total bail': 500000.0}, '78034': {'Last name': 'BOLEYN', 'First name': 'TRENTON', 'Age': '36', 'Charge description': ['BURGLARY 1ST DEG', 'DOM ASSLT-4/1ST OFF', 'US MARSHAL HOLD', 'DOM ASSLT-2ND-1S OFF'], 'Total case': 4, 'Total bail': 100000.0}, '18384': {'Last name': 'BONAPARTE', 'First name': 'NATHANIEL', 'Age': '38', 'Charge description': ['STEALING', 'ATTEMPT BURGLARY 1ST', 'PROP. DAMAGE 2ND DEG', 'F/T REG AS SEX OFFEN', 'SEX MISC-1ST DEG-1ST'], 'Total case': 5, 'Total bail': 166500.0}, '60725': {'Last name': 'BOSS', 'First name': 'JAFARI', 'Age': '34', 'Charge description': ['WRIT', 'ROBBERY - 1ST DEGREE', 'ARMED CRIMINAL ACTIO', 'KIDNAPPING'], 'Total case': 4, 'Total bail': 650000.0}, '12105': {'Last name': 'BRADSHAW', 'First name': 'JOSEPH', 'Age': '41', 'Charge description': ['DOMESTIC ASSAULT - 2', 'PROPERTY DAMAGE - 2N', 'DOMESTIC ASSAULT - 3', 'FAILURE TO FOLLOW JU', 'FAILURE TO FOLLOW JU'], 'Total case': 5, 'Total bail': 11417.5}, '60241': {'Last name': 'BRANSON', 'First name': 'RICHARD', 'Age': '61', 'Charge description': ['COMMIT'], 'Total case': 1, 'Total bail': 0}, '1262': {'Last name': 'BRASHIER', 'First name': 'APRIL', 'Age': '43', 'Charge description': ['FAILURE TO APPEAR', 'FAILURE TO APPEAR', 'FAILURE TO APPEAR', 'OUT/COUNTY WARRANT', 'OUT/COUNTY WARRANT', 'BOND REVOCATION', 'TERRORIST THREAT - 1', 'TERRORIST THREAT - 2'], 'Total case': 8, 'Total bail': 105000.0}, '60089': {'Last name': 'BRILL', 'First name': 'BRANDON', 'Age': '26', 'Charge description': ['MURDER 2ND DEGREE-F'], 'Total case': 1, 'Total bail': 1000000.0}, '73834': {'Last name': 'BROWN', 'First name': 'CLAUDE', 'Age': '52', 'Charge description': ['P&P VIOLATION', 'COMMIT'], 'Total case': 2, 'Total bail': 5000.0}, '45497': {'Last name': 'BROWN', 'First name': 'THYRUS', 'Age': '48', 'Charge description': ['POSSESS CONTROL SUBS', 'UNLAWFUL POSS FIREA'], 'Total case': 2, 'Total bail': 10000.0}, '55499': {'Last name': 'BURRIS', 'First name': 'GEOFFREY', 'Age': '28', 'Charge description': ['FRAUD USE CR DEV M', 'PROPERTY DAMAGE - 2N', 'TAMPERING WITH MOTOR', 'STEALING - ALL OTHER'], 'Total case': 4, 'Total bail': 10000.0}, '24142': {'Last name': 'BUSH', 'First name': 'FRANK', 'Age': '39', 'Charge description': ['FAILURE TO FOLLOW JU', 'FAILURE TO FOLLOW JU', 'STEALING - VALUE LES'], 'Total case': 3, 'Total bail': 6500.0}, '74407': {'Last name': 'BUTNER', 'First name': 'DANIEL', 'Age': '37', 'Charge description': ['DOM ASSLT-4/1ST OFF', 'FAILURE TO APPEAR', 'P&P VIOLATION'], 'Total case': 3, 'Total bail': 9000.0}, '33863': {'Last name': 'CALVERT', 'First name': 'JOHN', 'Age': '35', 'Charge description': ['DWI - PERSISTENT', 'POSSESS CONTROL SUBS', 'BOND REVOCATION', 'BOND REVOCATION', 'BOND REVOCATION', 'OUT/COUNTY WARRANT'], 'Total case': 6, 'Total bail': 48400.0}, '46476': {'Last name': 'CALVIN', 'First name': 'KAYLA', 'Age': '30', 'Charge description': ['ROBBERY - 1ST DEGREE', 'TAMPERING WITH MOTOR', 'TAMPER W MOTOR VEHIC', 'DAMAGE TO JAIL/JAIL', 'OUT/COUNTY WARRANT'], 'Total case': 5, 'Total bail': 81500.0}, '79636': {'Last name': 'CANFIELD', 'First name': 'NATHAN', 'Age': '35', 'Charge description': ['RESISTING/INTERFERIN', 'VIOL ORDER PROTECTIO', 'RESIST/INTERFERE ARR'], 'Total case': 3, 'Total bail': 41500.0}, '32072': {'Last name': 'CAREAGA', 'First name': 'JOSEPH', 'Age': '47', 'Charge description': ['TAMPERING WITH MOTOR', 'DUR/DUS - 2ND'], 'Total case': 2, 'Total bail': 5500.0}, '53483': {'Last name': 'CAREY', 'First name': 'TAYLOR', 'Age': '27', 'Charge description': ['COMMIT', 'COMMIT'], 'Total case': 2, 'Total bail': 0}, '56088': {'Last name': 'CARTER', 'First name': 'DARIAN', 'Age': '24', 'Charge description': ['BURGLARY 1ST DEGREE', 'BURGLARY 2ND DEGREE', 'STEALING - FELONY', 'BURGLARY 2ND DEGREE', 'STEALING - FELONY', 'BURGLARY 2ND DEGREE', 'STEALING - FELONY', 'BURGLARY 2ND DEGREE', 'STEALING - FELONY', 'BURGLARY 1ST DEGREE', 'STEALING - FELONY', 'STEALING - FELONY', 'US MARSHAL HOLD', 'ASSAULT - 3RD - E', 'ASSAULT - 4TH - A'], 'Total case': 15, 'Total bail': 233000.0}, '79645': {'Last name': 'CARTER', 'First name': 'DARREN', 'Age': '22', 'Charge description': ['TAMPERING WITH PHYSI'], 'Total case': 1, 'Total bail': 100000.0}, '67469': {'Last name': 'CARTER', 'First name': 'DEMARCO', 'Age': '22', 'Charge description': ['UNLAWFUL POSS FIREA'], 'Total case': 1, 'Total bail': 10000.0}, '78721': {'Last name': 'CAYABYAB', 'First name': 'DEREK', 'Age': '20', 'Charge description': ['COMMIT'], 'Total case': 1, 'Total bail': 0}, '67583': {'Last name': 'CERVANTES', 'First name': 'FERNANDO', 'Age': '24', 'Charge description': ['FAILURE TO APPEAR', 'FAILURE TO APPEAR', 'IMMIGRATION DETAINER'], 'Total case': 3, 'Total bail': 4000.0}, '30772': {'Last name': 'CLARK', 'First name': 'DEVIN', 'Age': '42', 'Charge description': ['TAMPERING WITH MOTOR', 'RESIST ARREST/DETENT', 'REC STOLEN PROPERTY', 'TAMPERING WITH MOTOR', 'RESIST ARREST/DETENT', 'RESISTING/INTERFERIN', 'BOND REVOCATION', 'BOND REVOCATION', 'BOND REVOCATION', 'TAMPERING WITH MOTOR'], 'Total case': 10, 'Total bail': 221500.0}, '52814': {'Last name': 'COATES', 'First name': 'JOSHUA', 'Age': '36', 'Charge description': ['STATUTORY RAPE - 2ND', 'BOND REVOCATION'], 'Total case': 2, 'Total bail': 100000.0}, '35949': {'Last name': 'COCO', 'First name': 'DREW', 'Age': '37', 'Charge description': ['DOMESTIC ASSAULT - 1', 'D.U.S.'], 'Total case': 2, 'Total bail': 100500.0}, '16927': {'Last name': 'COLEMAN', 'First name': 'JAMES', 'Age': '48', 'Charge description': ['P&P VIOLATION', 'STEALING - ALL OTHER'], 'Total case': 2, 'Total bail': 15000.0}, '9851': {'Last name': 'COLEMAN', 'First name': 'WESTLY', 'Age': '43', 'Charge description': ['OUT/COUNTY WARRANT', 'FAILURE TO APPEAR', 'DUR/DUS - 1ST OFF', 'TAMPER W MOTOR VEHIC', 'COMMIT'], 'Total case': 5, 'Total bail': 55500.0}, '38626': {'Last name': 'COLLINS', 'First name': 'DENNIS', 'Age': '33', 'Charge description': ['LEAVING SCENE', 'ASSAULT 2ND/OFFICER', 'RESISTING ARREST', 'DRIVE WHILE SUS/REV', 'OUT/COUNTY WARRANT', 'OUT/COUNTY WARRANT', 'DECEIVING POLICE OFF', 'OUT/COUNTY WARRANT', 'OUT/COUNTY WARRANT'], 'Total case': 9, 'Total bail': 139540.0}, '53650': {'Last name': 'COLLINS', 'First name': 'DERRICK', 'Age': '37', 'Charge description': ['UNLAWFUL POSS FIREA'], 'Total case': 1, 'Total bail': 4500.0}, '17871': {'Last name': 'COOK', 'First name': 'RICKY', 'Age': '46', 'Charge description': ['P&P VIOLATION', 'P&P VIOLATION'], 'Total case': 2, 'Total bail': 10000.0}, '32022': {'Last name': 'COPENHAVER', 'First name': 'TONY', 'Age': '49', 'Charge description': ['VIOLATION OF ORDER O', 'VIOL ORDER PROTECTIO', 'PEACE DISTURBANCE 1'], 'Total case': 3, 'Total bail': 20000.0}, '79355': {'Last name': 'CORNELL', 'First name': 'GERALD', 'Age': '62', 'Charge description': ['TAMPERING WITH MOTOR', 'FORGERY'], 'Total case': 2, 'Total bail': 10000.0}, '41050': {'Last name': 'CROWLEY', 'First name': 'ROBERT', 'Age': '33', 'Charge description': ['FAILURE TO APPEAR', 'LVNG SCNE ACC PR DAM', 'POSSESS CONTROL SUBS'], 'Total case': 3, 'Total bail': 11000.0}, '79252': {'Last name': 'DANIELSSON', 'First name': 'JESSE', 'Age': '24', 'Charge description': ['TAMPERING WITH MOTOR', 'RESISTING/INTERFERIN'], 'Total case': 2, 'Total bail': 20000.0}, '72780': {'Last name': 'DAWSON', 'First name': 'VINCENT', 'Age': '20', 'Charge description': ['ARMED CRIMINAL ACTIO', 'RESIST ARREST/DETENT', 'ASSAULT - 3RD S.V. D'], 'Total case': 3, 'Total bail': 49000.0}, '79549': {'Last name': 'DAY', 'First name': 'MICHAEL', 'Age': '46', 'Charge description': ['POSSESS CONTROL SUBS'], 'Total case': 1, 'Total bail': 4500.0}, '24820': {'Last name': 'DIXON', 'First name': 'JAY', 'Age': '36', 'Charge description': ['FAILURE TO APPEAR', 'PROPERTY DAMAGE - 2N', 'ARMED CRIMINAL ACTIO', 'ASSAULT 1ST DEG', 'ASSAULT - 2ND - D', 'KIDNAP - 3RD DEG MIS', 'DOM ASSLT-4/1ST OFF'], 'Total case': 7, 'Total bail': 115000.0}, '54428': {'Last name': 'DOWNS', 'First name': 'WILLIAM', 'Age': '42', 'Charge description': ['COMMIT'], 'Total case': 1, 'Total bail': 0}, '47501': {'Last name': 'DUGAN', 'First name': 'KAYLA', 'Age': '29', 'Charge description': ['ASSAULT - 4TH - A', 'POSSESS CONTROL SUBS', 'RESISTING/INTERFERIN', 'STEALING - $750 OR M', 'TRESPASS - 1ST DEGRE', 'STEALING - MISD A', 'STEALING - MISD A'], 'Total case': 7, 'Total bail': 31500.0}, '76526': {'Last name': 'EDE', 'First name': 'JOHN', 'Age': '54', 'Charge description': ['FAILURE TO FOLLOW JU', 'FAILURE TO APPEAR', 'OUT/COUNTY WARRANT', 'OUT/COUNTY WARRANT', 'OUT/COUNTY WARRANT', 'BOND REVOCATION'], 'Total case': 6, 'Total bail': 8000.0}}\n"
     ]
    }
   ],
   "source": [
    "final_dict,time4 = merge(first_dict, new)\n",
    "print(final_dict)"
   ]
  },
  {
   "cell_type": "markdown",
   "metadata": {},
   "source": [
    "**Execution times**"
   ]
  },
  {
   "cell_type": "code",
   "execution_count": 29,
   "metadata": {},
   "outputs": [
    {
     "name": "stdout",
     "output_type": "stream",
     "text": [
      "Total time taken for sequential search is: 38.6560914516449\n"
     ]
    }
   ],
   "source": [
    "time_seq = time1 + time2 + time3 + time4\n",
    "print(\"Total time taken for sequential search is:\", time_seq)"
   ]
  },
  {
   "cell_type": "markdown",
   "metadata": {},
   "source": [
    "**Provide a plot that shows the top 10 crime types by description and occurrence percentage**"
   ]
  },
  {
   "cell_type": "code",
   "execution_count": 30,
   "metadata": {},
   "outputs": [
    {
     "name": "stdout",
     "output_type": "stream",
     "text": [
      "{'DOMESTIC ASSAULT - 2': 3, 'SEX ABUSE-2ND DEG': 1, 'ASSAULT - 4TH - C': 1, 'P&P VIOLATION': 8, 'FAIL REG AS SEX OFFE': 1, 'COMMIT': 8, 'BURGLARY - 2ND DEGRE': 1, 'TAMPERING WITH MOTOR': 9, 'PEACE DISTURBANCE': 1, 'DIST.MANU.OR POSSES.': 1, 'RESISTING ARREST': 2, 'FAILURE TO APPEAR': 11, 'OUT/COUNTY WARRANT': 14, 'POSSESS CONTROL SUBS': 6, 'RESISTING/INTERFERIN': 5, 'RESIST/INTERFERE ARR': 2, 'ASSAULT - 4TH - A': 3, 'ROBBERY - 1ST DEGREE': 3, 'BURGLARY 1ST DEGREE': 3, 'ARMED CRIMINAL ACTIO': 4, 'BURGLARY 1ST DEG': 1, 'DOM ASSLT-4/1ST OFF': 3, 'US MARSHAL HOLD': 2, 'DOM ASSLT-2ND-1S OFF': 1, 'STEALING': 1, 'ATTEMPT BURGLARY 1ST': 1, 'PROP. DAMAGE 2ND DEG': 1, 'F/T REG AS SEX OFFEN': 1, 'SEX MISC-1ST DEG-1ST': 1, 'WRIT': 1, 'KIDNAPPING': 1, 'PROPERTY DAMAGE - 2N': 3, 'DOMESTIC ASSAULT - 3': 1, 'FAILURE TO FOLLOW JU': 5, 'BOND REVOCATION': 9, 'TERRORIST THREAT - 1': 1, 'TERRORIST THREAT - 2': 1, 'MURDER 2ND DEGREE-F': 1, 'UNLAWFUL POSS FIREA': 3, 'FRAUD USE CR DEV M': 1, 'STEALING - ALL OTHER': 2, 'STEALING - VALUE LES': 1, 'DWI - PERSISTENT': 1, 'TAMPER W MOTOR VEHIC': 2, 'DAMAGE TO JAIL/JAIL': 1, 'VIOL ORDER PROTECTIO': 2, 'DUR/DUS - 2ND': 1, 'BURGLARY 2ND DEGREE': 4, 'STEALING - FELONY': 6, 'ASSAULT - 3RD - E': 1, 'TAMPERING WITH PHYSI': 1, 'IMMIGRATION DETAINER': 1, 'RESIST ARREST/DETENT': 3, 'REC STOLEN PROPERTY': 1, 'STATUTORY RAPE - 2ND': 1, 'DOMESTIC ASSAULT - 1': 1, 'D.U.S.': 1, 'DUR/DUS - 1ST OFF': 1, 'LEAVING SCENE': 1, 'ASSAULT 2ND/OFFICER': 1, 'DRIVE WHILE SUS/REV': 1, 'DECEIVING POLICE OFF': 1, 'VIOLATION OF ORDER O': 1, 'PEACE DISTURBANCE 1': 1, 'FORGERY': 1, 'LVNG SCNE ACC PR DAM': 1, 'ASSAULT - 3RD S.V. D': 1, 'ASSAULT 1ST DEG': 1, 'ASSAULT - 2ND - D': 1, 'KIDNAP - 3RD DEG MIS': 1, 'STEALING - $750 OR M': 1, 'TRESPASS - 1ST DEGRE': 1, 'STEALING - MISD A': 2}\n"
     ]
    }
   ],
   "source": [
    "#create a histogram using crime_4_plot list from def additional(soup)\n",
    "\n",
    "#first, create a dictionary that returns the count of each charge description\n",
    "dict = {}\n",
    "\n",
    "for i in crime:\n",
    "    if i in dict:\n",
    "        dict[i] += 1\n",
    "    else:\n",
    "        dict[i] = 1\n",
    "print(dict)"
   ]
  },
  {
   "cell_type": "code",
   "execution_count": 31,
   "metadata": {
    "collapsed": true
   },
   "outputs": [],
   "source": [
    "#X axis - Take the top 10 crime types from the dict above\n",
    "x_label=sorted(dict,key=dict.get, reverse=True)[:10]\n",
    "#print(x_label)\n",
    "\n",
    "crime_total = len(crime)\n",
    "#print (crime_total)\n",
    "\n",
    "#Y axis - calculate the percentage of the top 10 crime types\n",
    "y = []\n",
    "for i in x_label:\n",
    "    a= dict[i]/crime_total*100\n",
    "    y.append(a)"
   ]
  },
  {
   "cell_type": "code",
   "execution_count": 32,
   "metadata": {},
   "outputs": [
    {
     "data": {
      "image/png": "[encoded data removed]",
      "text/plain": [
       "<matplotlib.figure.Figure at 0x11341f7b8>"
      ]
     },
     "metadata": {},
     "output_type": "display_data"
    }
   ],
   "source": [
    "import matplotlib.pyplot as plt\n",
    "\n",
    "x=[1,2,3,4,5,6,7,8,9,10]\n",
    "\n",
    "a= plt.bar(x,y)\n",
    "plt.xticks(x, x_label, rotation='vertical')\n",
    "\n",
    "plt.ylabel('Occurences %')\n",
    "plt.xlabel('Crime type')\n",
    "plt.show()"
   ]
  }
 ],
 "metadata": {
  "kernelspec": {
   "display_name": "Python [default]",
   "language": "python",
   "name": "python3"
  },
  "language_info": {
   "codemirror_mode": {
    "name": "ipython",
    "version": 3
   },
   "file_extension": ".py",
   "mimetype": "text/x-python",
   "name": "python",
   "nbconvert_exporter": "python",
   "pygments_lexer": "ipython3",
   "version": "3.6.4"
  }
 },
 "nbformat": 4,
 "nbformat_minor": 2
}
